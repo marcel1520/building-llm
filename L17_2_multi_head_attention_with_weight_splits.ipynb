{
 "cells": [
  {
   "cell_type": "markdown",
   "id": "3c5390cb",
   "metadata": {},
   "source": [
    "# Lecture 17.2: Multi-Head-Attention Mechanism with Weight Splits"
   ]
  },
  {
   "cell_type": "code",
   "execution_count": 613,
   "id": "0bef9b75",
   "metadata": {},
   "outputs": [],
   "source": [
    "import torch\n",
    "from torch import nn"
   ]
  },
  {
   "cell_type": "markdown",
   "id": "2b88c2d4",
   "metadata": {},
   "source": [
    "### input data / sequence"
   ]
  },
  {
   "cell_type": "code",
   "execution_count": 614,
   "id": "2adcce8b",
   "metadata": {},
   "outputs": [],
   "source": [
    "torch.manual_seed(123)\n",
    "\n",
    "inputs = torch.tensor([[0.43, 0.15, 0.89, 0.55, 0.87, 0.66],                     \n",
    "                       [0.57, 0.85, 0.64, 0.22, 0.58, 0.33],\n",
    "                       [0.77, 0.25, 0.10, 0.05, 0.80, 0.55],]\n",
    "                       )"
   ]
  },
  {
   "cell_type": "markdown",
   "id": "95b67294",
   "metadata": {},
   "source": [
    "### variable definition"
   ]
  },
  {
   "cell_type": "code",
   "execution_count": 615,
   "id": "77b4f4a3",
   "metadata": {},
   "outputs": [
    {
     "name": "stdout",
     "output_type": "stream",
     "text": [
      "torch.Size([2, 3, 6])\n",
      "Input Dimensions: 6\n",
      "Output Dimensions: 6\n",
      "Context Length: 3\n",
      "Dropout: 0.0\n",
      "Number of Heads: 2\n",
      "Head Dimension: 3\n"
     ]
    }
   ],
   "source": [
    "batch = torch.stack((inputs, inputs), dim=0)\n",
    "d_in = batch.shape[-1]\n",
    "d_out = 6\n",
    "context_length = batch.shape[1]\n",
    "dropout = 0.0\n",
    "num_heads = 2\n",
    "head_dim = d_out // num_heads\n",
    "print(batch.shape)\n",
    "print(f\"Input Dimensions: {d_in}\\nOutput Dimensions: {d_out}\\nContext Length: {context_length}\")\n",
    "print(f\"Dropout: {dropout}\\nNumber of Heads: {num_heads}\\nHead Dimension: {head_dim}\")"
   ]
  },
  {
   "cell_type": "markdown",
   "id": "31a50e38",
   "metadata": {},
   "source": [
    "# Multi-Head-Attention Class"
   ]
  },
  {
   "cell_type": "markdown",
   "id": "ec0744ed",
   "metadata": {},
   "source": [
    "### by and large similar to the causal attention class the Multi-Head-Attention Class is an extension with additional features "
   ]
  },
  {
   "cell_type": "code",
   "execution_count": 616,
   "id": "ccffec14",
   "metadata": {},
   "outputs": [],
   "source": [
    "class MultiHeadAttention(nn.Module):\n",
    "    def __init__(self, d_in, d_out, context_length, dropout, num_heads, qkv_bias=False):\n",
    "        super().__init__()\n",
    "        assert d_out % num_heads == 0\n",
    "\n",
    "        self.d_out = d_out\n",
    "        self.num_heads = num_heads\n",
    "        self.head_dim = d_out // num_heads\n",
    "\n",
    "        self.W_query = nn.Linear(d_in, d_out, bias=qkv_bias)\n",
    "        self.W_key = nn.Linear(d_in, d_out, bias=qkv_bias)\n",
    "        self.W_value = nn.Linear(d_in, d_out, bias=qkv_bias)\n",
    "        self.out_proj = nn.Linear(d_in, d_out)\n",
    "        self.dropout = nn.Dropout(dropout)\n",
    "        self.register_buffer('mask', torch.triu(torch.ones(context_length, context_length), diagonal=1))\n",
    "    \n",
    "    def forward(self, x):\n",
    "        b, num_tokens, d_in = x.shape\n",
    "\n",
    "        queries = self.W_query(x)\n",
    "        keys = self.W_key(x)\n",
    "        values = self.W_value(x)\n",
    "\n",
    "        queries = queries.view(b, num_tokens, self.num_heads, self.head_dim)\n",
    "        keys = keys.view(b, num_tokens, self.num_heads, self.head_dim)\n",
    "        values = values.view(b, num_tokens, self.num_heads, self.head_dim)\n",
    "\n",
    "        queries = queries.transpose(1, 2)\n",
    "        keys = keys.transpose(1, 2)\n",
    "        values = values.transpose(1, 2)\n",
    "\n",
    "        attn_scores = queries @ keys.transpose(2, 3)\n",
    "        mask_bool = self.mask.bool()[:num_tokens, :num_tokens]\n",
    "        attn_scores.masked_fill_(mask_bool, -torch.inf)\n",
    "        attn_scores_masked_scaled = attn_scores / torch.sqrt(torch.tensor(keys.shape[-1]))\n",
    "        attn_weights = torch.softmax(attn_scores_masked_scaled, dim=-1)\n",
    "        attn_weights = self.dropout(attn_weights)\n",
    "\n",
    "        context_vec = (attn_weights @ values).transpose(1, 2)\n",
    "\n",
    "        context_vec = context_vec.contiguous().view(b, num_tokens, self.d_out)\n",
    "        context_vec = self.out_proj(context_vec)\n",
    "\n",
    "        return context_vec"
   ]
  },
  {
   "cell_type": "markdown",
   "id": "a75391c7",
   "metadata": {},
   "source": [
    "### creating an instance of the Multi-Head-Attention Class"
   ]
  },
  {
   "cell_type": "code",
   "execution_count": 617,
   "id": "a78f4470",
   "metadata": {},
   "outputs": [
    {
     "name": "stdout",
     "output_type": "stream",
     "text": [
      "tensor([[[ 0.1569, -0.0873,  0.0210,  0.0215, -0.3243, -0.2518],\n",
      "         [ 0.1117, -0.0547,  0.0406, -0.0213, -0.3251, -0.2993],\n",
      "         [ 0.1196, -0.0491,  0.0318, -0.0635, -0.2788, -0.2578]],\n",
      "\n",
      "        [[ 0.1569, -0.0873,  0.0210,  0.0215, -0.3243, -0.2518],\n",
      "         [ 0.1117, -0.0547,  0.0406, -0.0213, -0.3251, -0.2993],\n",
      "         [ 0.1196, -0.0491,  0.0318, -0.0635, -0.2788, -0.2578]]],\n",
      "       grad_fn=<ViewBackward0>)\n"
     ]
    }
   ],
   "source": [
    "multi_head_attention = MultiHeadAttention(d_in, d_out, context_length, dropout, num_heads)\n",
    "context_matrix = multi_head_attention.forward(batch)\n",
    "print(context_matrix)"
   ]
  },
  {
   "cell_type": "markdown",
   "id": "7c8feea6",
   "metadata": {},
   "source": [
    "# Context Vector Step by Step\n",
    "\n",
    "### initializing input and variables"
   ]
  },
  {
   "cell_type": "code",
   "execution_count": 618,
   "id": "199a0f9d",
   "metadata": {},
   "outputs": [
    {
     "name": "stdout",
     "output_type": "stream",
     "text": [
      "Context Length: 3\n",
      "Input Dimension: 6\n",
      "Output Dimension: 6\n",
      "Number of Attention Heads: 2\n",
      "Head Dimension: 3\n",
      "\n",
      "\n",
      "Input Embeddings:\n",
      "tensor([[0.4300, 0.1500, 0.8900, 0.5500, 0.8700, 0.6600],\n",
      "        [0.5700, 0.8500, 0.6400, 0.2200, 0.5800, 0.3300],\n",
      "        [0.7700, 0.2500, 0.1000, 0.0500, 0.8000, 0.5500]])\n",
      "torch.Size([3, 6])\n"
     ]
    }
   ],
   "source": [
    "torch.manual_seed(50)\n",
    "inputs_test = torch.tensor([[0.43, 0.15, 0.89, 0.55, 0.87, 0.66],                     \n",
    "                            [0.57, 0.85, 0.64, 0.22, 0.58, 0.33],\n",
    "                            [0.77, 0.25, 0.10, 0.05, 0.80, 0.55],]\n",
    "                            )\n",
    "\n",
    "batch_size1 = 1\n",
    "batch_2 = torch.stack((inputs, inputs), dim=0)\n",
    "batch_size2 = batch_2.shape[0]\n",
    "context_length = inputs_test.shape[0]\n",
    "input_dimension = inputs_test.shape[-1]\n",
    "output_dimension = input_dimension\n",
    "number_heads = 2\n",
    "head_dimension = output_dimension // number_heads\n",
    "dropout = 0.0\n",
    "\n",
    "print(f\"Context Length: {context_length}\\nInput Dimension: {input_dimension}\\nOutput Dimension: {output_dimension}\")\n",
    "print(f\"Number of Attention Heads: {number_heads}\\nHead Dimension: {head_dimension}\\n\")\n",
    "print(f\"\\nInput Embeddings:\\n{inputs_test}\\n{inputs_test.shape}\")"
   ]
  },
  {
   "cell_type": "markdown",
   "id": "98b26c81",
   "metadata": {},
   "source": [
    "### initializing trainable weight matrices"
   ]
  },
  {
   "cell_type": "code",
   "execution_count": 619,
   "id": "22bee74f",
   "metadata": {},
   "outputs": [
    {
     "name": "stdout",
     "output_type": "stream",
     "text": [
      "Trainable Weight Matrix Query:\n",
      "tensor([[0.6180, 0.0687, 0.3893, 0.0404, 0.4013, 0.1442],\n",
      "        [0.4605, 0.4877, 0.5927, 0.9634, 0.1230, 0.4048],\n",
      "        [0.4985, 0.9987, 0.6049, 0.5229, 0.6974, 0.2505],\n",
      "        [0.3624, 0.4621, 0.7145, 0.5058, 0.0518, 0.2492],\n",
      "        [0.2395, 0.4233, 0.0022, 0.6848, 0.7497, 0.2489],\n",
      "        [0.3490, 0.1953, 0.2792, 0.2526, 0.3792, 0.7686]])\n",
      "torch.Size([6, 6])\n",
      "\n",
      "Trainable Weight Matrix Key:\n",
      "tensor([[0.6907, 0.7526, 0.1184, 0.8699, 0.8391, 0.0532],\n",
      "        [0.1705, 0.2914, 0.5682, 0.0380, 0.2715, 0.6987],\n",
      "        [0.0944, 0.6719, 0.3782, 0.8738, 0.7267, 0.9486],\n",
      "        [0.4388, 0.4589, 0.0359, 0.3525, 0.0389, 0.3880],\n",
      "        [0.1319, 0.5018, 0.8077, 0.9322, 0.5680, 0.5034],\n",
      "        [0.2074, 0.4779, 0.4203, 0.4014, 0.0436, 0.6490]])\n",
      "torch.Size([6, 6])\n",
      "\n",
      "Trainable Weight Matrix Value:\n",
      "tensor([[0.9007, 0.8274, 0.3785, 0.7518, 0.2839, 0.7220],\n",
      "        [0.8421, 0.2474, 0.6834, 0.0551, 0.7824, 0.7901],\n",
      "        [0.9596, 0.6065, 0.5926, 0.7300, 0.9768, 0.9680],\n",
      "        [0.1494, 0.9826, 0.7921, 0.5842, 0.9628, 0.3192],\n",
      "        [0.5750, 0.1538, 0.2540, 0.9703, 0.5020, 0.3018],\n",
      "        [0.8832, 0.1921, 0.7686, 0.2524, 0.3668, 0.0484]])\n",
      "torch.Size([6, 6])\n"
     ]
    }
   ],
   "source": [
    "torch.manual_seed(50)\n",
    "W_query = torch.rand(6, 6)\n",
    "W_key = torch.rand(6, 6)\n",
    "W_value = torch.rand(6, 6)\n",
    "\n",
    "print(f\"Trainable Weight Matrix Query:\\n{W_query}\\n{W_query.shape}\\n\")\n",
    "print(f\"Trainable Weight Matrix Key:\\n{W_key}\\n{W_key.shape}\\n\")\n",
    "print(f\"Trainable Weight Matrix Value:\\n{W_value}\\n{W_value.shape}\")"
   ]
  },
  {
   "cell_type": "markdown",
   "id": "daaabadc",
   "metadata": {},
   "source": [
    "### computing queries, keys and values matrices by multiplying inputs with trainable weight matrices\n",
    "\n",
    "### 2 X 3 X 6 ---> 2 - number of batches, 3 - context length (number of tokens), 6 - token embedding dimension"
   ]
  },
  {
   "cell_type": "code",
   "execution_count": 620,
   "id": "c94a2564",
   "metadata": {},
   "outputs": [
    {
     "name": "stdout",
     "output_type": "stream",
     "text": [
      "Queries Matrix:\n",
      "tensor([[[1.4165, 1.7428, 1.3738, 1.6680, 1.7427, 1.2065],\n",
      "         [1.3965, 1.5045, 1.3634, 1.7684, 1.3510, 1.0393],\n",
      "         [1.0425, 0.7438, 0.6994, 1.0363, 1.2204, 0.8715]],\n",
      "\n",
      "        [[1.4165, 1.7428, 1.3738, 1.6680, 1.7427, 1.2065],\n",
      "         [1.3965, 1.5045, 1.3634, 1.7684, 1.3510, 1.0393],\n",
      "         [1.0425, 0.7438, 0.6994, 1.0363, 1.2204, 0.8715]]])\n",
      "torch.Size([2, 3, 6])\n",
      "\n",
      "Keys Matrix:\n",
      "tensor([[[0.8996, 1.9697, 1.4726, 2.4273, 1.5926, 2.0517],\n",
      "         [0.8405, 1.6564, 1.4076, 1.8381, 1.5266, 1.8229],\n",
      "         [0.8254, 1.4067, 1.1502, 1.7509, 1.2670, 1.0896]],\n",
      "\n",
      "        [[0.8996, 1.9697, 1.4726, 2.4273, 1.5926, 2.0517],\n",
      "         [0.8405, 1.6564, 1.4076, 1.8381, 1.5266, 1.8229],\n",
      "         [0.8254, 1.4067, 1.1502, 1.7509, 1.2670, 1.0896]]])\n",
      "torch.Size([2, 3, 6])\n",
      "\n",
      "Values Matrix:\n",
      "tensor([[[2.5330, 1.7337, 1.9566, 2.3132, 2.3171, 1.7606],\n",
      "         [2.5011, 1.4389, 1.7511, 1.7171, 2.0760, 1.9639],\n",
      "         [1.9532, 1.0375, 1.1871, 1.6099, 1.1633, 1.1343]],\n",
      "\n",
      "        [[2.5330, 1.7337, 1.9566, 2.3132, 2.3171, 1.7606],\n",
      "         [2.5011, 1.4389, 1.7511, 1.7171, 2.0760, 1.9639],\n",
      "         [1.9532, 1.0375, 1.1871, 1.6099, 1.1633, 1.1343]]])\n",
      "torch.Size([2, 3, 6])\n"
     ]
    }
   ],
   "source": [
    "torch.manual_seed(50)\n",
    "queries = batch_2 @ W_query\n",
    "keys = batch_2 @ W_key\n",
    "values = batch_2 @ W_value\n",
    "\n",
    "print(f\"Queries Matrix:\\n{queries}\\n{queries.shape}\\n\")\n",
    "print(f\"Keys Matrix:\\n{keys}\\n{keys.shape}\\n\")\n",
    "print(f\"Values Matrix:\\n{values}\\n{values.shape}\")"
   ]
  },
  {
   "cell_type": "markdown",
   "id": "129d0ccd",
   "metadata": {},
   "source": [
    "### reshaping the queries, keys and values matrices by splitting output dimension in number of heads and head dimension\n",
    "\n",
    "### 2 X 3 X 2 X 3 ---> 2 main blocks, 3 sub blocks per main block, 2 rows per sub block, 3 columns overall\n",
    "#### 2 - number of batches (main blocks), 3 - tokens per batch (sub blocks), 2 - number of attention heads (rows per sub block), 3 - head dimensions (columns)"
   ]
  },
  {
   "cell_type": "code",
   "execution_count": 621,
   "id": "8ad7077c",
   "metadata": {},
   "outputs": [
    {
     "name": "stdout",
     "output_type": "stream",
     "text": [
      "Queries Matrix reshaped:\n",
      "tensor([[[[1.4165, 1.7428, 1.3738],\n",
      "          [1.6680, 1.7427, 1.2065]],\n",
      "\n",
      "         [[1.3965, 1.5045, 1.3634],\n",
      "          [1.7684, 1.3510, 1.0393]],\n",
      "\n",
      "         [[1.0425, 0.7438, 0.6994],\n",
      "          [1.0363, 1.2204, 0.8715]]],\n",
      "\n",
      "\n",
      "        [[[1.4165, 1.7428, 1.3738],\n",
      "          [1.6680, 1.7427, 1.2065]],\n",
      "\n",
      "         [[1.3965, 1.5045, 1.3634],\n",
      "          [1.7684, 1.3510, 1.0393]],\n",
      "\n",
      "         [[1.0425, 0.7438, 0.6994],\n",
      "          [1.0363, 1.2204, 0.8715]]]])\n",
      "torch.Size([2, 3, 2, 3])\n",
      "\n",
      "Keys Matrix reshaped:\n",
      "tensor([[[[0.8996, 1.9697, 1.4726],\n",
      "          [2.4273, 1.5926, 2.0517]],\n",
      "\n",
      "         [[0.8405, 1.6564, 1.4076],\n",
      "          [1.8381, 1.5266, 1.8229]],\n",
      "\n",
      "         [[0.8254, 1.4067, 1.1502],\n",
      "          [1.7509, 1.2670, 1.0896]]],\n",
      "\n",
      "\n",
      "        [[[0.8996, 1.9697, 1.4726],\n",
      "          [2.4273, 1.5926, 2.0517]],\n",
      "\n",
      "         [[0.8405, 1.6564, 1.4076],\n",
      "          [1.8381, 1.5266, 1.8229]],\n",
      "\n",
      "         [[0.8254, 1.4067, 1.1502],\n",
      "          [1.7509, 1.2670, 1.0896]]]])\n",
      "torch.Size([2, 3, 2, 3])\n",
      "\n",
      "Values Matrix reashaped:\n",
      "tensor([[[[2.5330, 1.7337, 1.9566],\n",
      "          [2.3132, 2.3171, 1.7606]],\n",
      "\n",
      "         [[2.5011, 1.4389, 1.7511],\n",
      "          [1.7171, 2.0760, 1.9639]],\n",
      "\n",
      "         [[1.9532, 1.0375, 1.1871],\n",
      "          [1.6099, 1.1633, 1.1343]]],\n",
      "\n",
      "\n",
      "        [[[2.5330, 1.7337, 1.9566],\n",
      "          [2.3132, 2.3171, 1.7606]],\n",
      "\n",
      "         [[2.5011, 1.4389, 1.7511],\n",
      "          [1.7171, 2.0760, 1.9639]],\n",
      "\n",
      "         [[1.9532, 1.0375, 1.1871],\n",
      "          [1.6099, 1.1633, 1.1343]]]])\n",
      "torch.Size([2, 3, 2, 3])\n"
     ]
    }
   ],
   "source": [
    "torch.manual_seed(50)\n",
    "queries_rs = queries.view(batch_size2, context_length, number_heads, head_dimension)\n",
    "keys_rs = keys.view(batch_size2, context_length, number_heads, head_dimension)\n",
    "values_rs = values.view(batch_size2, context_length, number_heads, head_dimension)\n",
    "\n",
    "print(f\"Queries Matrix reshaped:\\n{queries_rs}\\n{queries_rs.shape}\\n\")\n",
    "print(f\"Keys Matrix reshaped:\\n{keys_rs}\\n{keys_rs.shape}\\n\")\n",
    "print(f\"Values Matrix reashaped:\\n{values_rs}\\n{values_rs.shape}\")"
   ]
  },
  {
   "cell_type": "markdown",
   "id": "c85f1659",
   "metadata": {},
   "source": [
    "### transposing the queries, keys and values matrices inner 2 dimensions, tokens per batch and number of attention heads swap places\n",
    "\n",
    "### 2 X 2 X 3 X 3 ---> 2 main blocks, 2 attention heads per block (sub blocks), 3 tokens per batch (in each sub block), 3 as number of head dimensions\n"
   ]
  },
  {
   "cell_type": "code",
   "execution_count": 622,
   "id": "1bd28980",
   "metadata": {},
   "outputs": [
    {
     "name": "stdout",
     "output_type": "stream",
     "text": [
      "Queries transposed:\n",
      "tensor([[[[1.4165, 1.7428, 1.3738],\n",
      "          [1.3965, 1.5045, 1.3634],\n",
      "          [1.0425, 0.7438, 0.6994]],\n",
      "\n",
      "         [[1.6680, 1.7427, 1.2065],\n",
      "          [1.7684, 1.3510, 1.0393],\n",
      "          [1.0363, 1.2204, 0.8715]]],\n",
      "\n",
      "\n",
      "        [[[1.4165, 1.7428, 1.3738],\n",
      "          [1.3965, 1.5045, 1.3634],\n",
      "          [1.0425, 0.7438, 0.6994]],\n",
      "\n",
      "         [[1.6680, 1.7427, 1.2065],\n",
      "          [1.7684, 1.3510, 1.0393],\n",
      "          [1.0363, 1.2204, 0.8715]]]])\n",
      "torch.Size([2, 2, 3, 3])\n",
      "\n",
      "Keys transposed:\n",
      "tensor([[[[0.8996, 1.9697, 1.4726],\n",
      "          [0.8405, 1.6564, 1.4076],\n",
      "          [0.8254, 1.4067, 1.1502]],\n",
      "\n",
      "         [[2.4273, 1.5926, 2.0517],\n",
      "          [1.8381, 1.5266, 1.8229],\n",
      "          [1.7509, 1.2670, 1.0896]]],\n",
      "\n",
      "\n",
      "        [[[0.8996, 1.9697, 1.4726],\n",
      "          [0.8405, 1.6564, 1.4076],\n",
      "          [0.8254, 1.4067, 1.1502]],\n",
      "\n",
      "         [[2.4273, 1.5926, 2.0517],\n",
      "          [1.8381, 1.5266, 1.8229],\n",
      "          [1.7509, 1.2670, 1.0896]]]])\n",
      "torch.Size([2, 2, 3, 3])\n",
      "\n",
      "Values transposed:\n",
      "tensor([[[[2.5330, 1.7337, 1.9566],\n",
      "          [2.5011, 1.4389, 1.7511],\n",
      "          [1.9532, 1.0375, 1.1871]],\n",
      "\n",
      "         [[2.3132, 2.3171, 1.7606],\n",
      "          [1.7171, 2.0760, 1.9639],\n",
      "          [1.6099, 1.1633, 1.1343]]],\n",
      "\n",
      "\n",
      "        [[[2.5330, 1.7337, 1.9566],\n",
      "          [2.5011, 1.4389, 1.7511],\n",
      "          [1.9532, 1.0375, 1.1871]],\n",
      "\n",
      "         [[2.3132, 2.3171, 1.7606],\n",
      "          [1.7171, 2.0760, 1.9639],\n",
      "          [1.6099, 1.1633, 1.1343]]]])\n",
      "torch.Size([2, 2, 3, 3])\n"
     ]
    }
   ],
   "source": [
    "torch.manual_seed(50)\n",
    "queries_t = queries_rs.transpose(1, 2)\n",
    "keys_t = keys_rs.transpose(1, 2)\n",
    "values_t = values_rs.transpose(1, 2)\n",
    "\n",
    "print(f\"Queries transposed:\\n{queries_t}\\n{queries_t.shape}\\n\")\n",
    "print(f\"Keys transposed:\\n{keys_t}\\n{keys_t.shape}\\n\")\n",
    "print(f\"Values transposed:\\n{values_t}\\n{values_t.shape}\")"
   ]
  },
  {
   "cell_type": "markdown",
   "id": "0c30b31d",
   "metadata": {},
   "source": [
    "### before the Attention Scores Matrix is computed the last 2 dimensions of the reshaped and transposed Keys matrix have to be swapped \n",
    "\n",
    "### within each sub block of the 2 batches rows become columns and columns become rows "
   ]
  },
  {
   "cell_type": "code",
   "execution_count": 623,
   "id": "e09a9506",
   "metadata": {},
   "outputs": [
    {
     "name": "stdout",
     "output_type": "stream",
     "text": [
      "Keys Matrix with its last two dimensions transposed:\n",
      "tensor([[[[0.8996, 0.8405, 0.8254],\n",
      "          [1.9697, 1.6564, 1.4067],\n",
      "          [1.4726, 1.4076, 1.1502]],\n",
      "\n",
      "         [[2.4273, 1.8381, 1.7509],\n",
      "          [1.5926, 1.5266, 1.2670],\n",
      "          [2.0517, 1.8229, 1.0896]]],\n",
      "\n",
      "\n",
      "        [[[0.8996, 0.8405, 0.8254],\n",
      "          [1.9697, 1.6564, 1.4067],\n",
      "          [1.4726, 1.4076, 1.1502]],\n",
      "\n",
      "         [[2.4273, 1.8381, 1.7509],\n",
      "          [1.5926, 1.5266, 1.2670],\n",
      "          [2.0517, 1.8229, 1.0896]]]])\n",
      "\n",
      "Attention Scores Matrix:\n",
      "tensor([[[[6.7302, 6.0112, 5.2011],\n",
      "          [6.2273, 5.5849, 4.8373],\n",
      "          [3.4329, 3.0928, 2.7114]],\n",
      "\n",
      "         [[9.2994, 7.9254, 6.4430],\n",
      "          [8.5764, 7.2074, 5.9404],\n",
      "          [6.2472, 5.3565, 4.3103]]],\n",
      "\n",
      "\n",
      "        [[[6.7302, 6.0112, 5.2011],\n",
      "          [6.2273, 5.5849, 4.8373],\n",
      "          [3.4329, 3.0928, 2.7114]],\n",
      "\n",
      "         [[9.2994, 7.9254, 6.4430],\n",
      "          [8.5764, 7.2074, 5.9404],\n",
      "          [6.2472, 5.3565, 4.3103]]]])\n",
      "torch.Size([2, 2, 3, 3])\n"
     ]
    }
   ],
   "source": [
    "torch.manual_seed(50)\n",
    "keys_t_t = keys_t.transpose(2, 3)\n",
    "attn_scores = queries_t @ keys_t_t\n",
    "\n",
    "print(f\"Keys Matrix with its last two dimensions transposed:\\n{keys_t_t}\\n\")\n",
    "print(f\"Attention Scores Matrix:\\n{attn_scores}\\n{attn_scores.shape}\")"
   ]
  },
  {
   "cell_type": "markdown",
   "id": "dbae3a13",
   "metadata": {},
   "source": [
    "### the mask is being initialized"
   ]
  },
  {
   "cell_type": "code",
   "execution_count": 624,
   "id": "4877270c",
   "metadata": {},
   "outputs": [
    {
     "name": "stdout",
     "output_type": "stream",
     "text": [
      "Mask to be set before application:\n",
      "tensor([[0., 1., 1.],\n",
      "        [0., 0., 1.],\n",
      "        [0., 0., 0.]])\n"
     ]
    }
   ],
   "source": [
    "mask = torch.triu(torch.ones(context_length, context_length), diagonal=1)\n",
    "\n",
    "print(f\"Mask to be set before application:\\n{mask}\")"
   ]
  },
  {
   "cell_type": "markdown",
   "id": "2fef85a7",
   "metadata": {},
   "source": [
    "### the mask is being applied on the attention scores matrix to mask out future tokens"
   ]
  },
  {
   "cell_type": "code",
   "execution_count": 625,
   "id": "993e7cf8",
   "metadata": {},
   "outputs": [
    {
     "name": "stdout",
     "output_type": "stream",
     "text": [
      "Mask applied on Attention Scores:\n",
      "tensor([[[[6.7302,   -inf,   -inf],\n",
      "          [6.2273, 5.5849,   -inf],\n",
      "          [3.4329, 3.0928, 2.7114]],\n",
      "\n",
      "         [[9.2994,   -inf,   -inf],\n",
      "          [8.5764, 7.2074,   -inf],\n",
      "          [6.2472, 5.3565, 4.3103]]],\n",
      "\n",
      "\n",
      "        [[[6.7302,   -inf,   -inf],\n",
      "          [6.2273, 5.5849,   -inf],\n",
      "          [3.4329, 3.0928, 2.7114]],\n",
      "\n",
      "         [[9.2994,   -inf,   -inf],\n",
      "          [8.5764, 7.2074,   -inf],\n",
      "          [6.2472, 5.3565, 4.3103]]]])\n"
     ]
    }
   ],
   "source": [
    "attn_scores_masked = attn_scores.masked_fill(mask.bool(), -torch.inf)\n",
    "\n",
    "print(f\"Mask applied on Attention Scores:\\n{attn_scores_masked}\")"
   ]
  },
  {
   "cell_type": "markdown",
   "id": "8686f557",
   "metadata": {},
   "source": [
    "### the masked attention scores are scaled by the square root of the last keys dimension (after reshaping the keys matrix)"
   ]
  },
  {
   "cell_type": "code",
   "execution_count": 626,
   "id": "86fe08f3",
   "metadata": {},
   "outputs": [
    {
     "name": "stdout",
     "output_type": "stream",
     "text": [
      "Original keys Matrix shape: torch.Size([2, 3, 6])\n",
      "\n",
      "Keys Matrix after splitting last dimension: torch.Size([2, 3, 2, 3])\n",
      "\n",
      "Keys Matrix after transposition of inner dimensions: torch.Size([2, 2, 3, 3])\n",
      "\n",
      "Masked Attention Scores scaled by the square root of the keys dimension:\n",
      "tensor([[[[3.8857,   -inf,   -inf],\n",
      "          [3.5953, 3.2244,   -inf],\n",
      "          [1.9820, 1.7856, 1.5654]],\n",
      "\n",
      "         [[5.3690,   -inf,   -inf],\n",
      "          [4.9516, 4.1612,   -inf],\n",
      "          [3.6068, 3.0926, 2.4886]]],\n",
      "\n",
      "\n",
      "        [[[3.8857,   -inf,   -inf],\n",
      "          [3.5953, 3.2244,   -inf],\n",
      "          [1.9820, 1.7856, 1.5654]],\n",
      "\n",
      "         [[5.3690,   -inf,   -inf],\n",
      "          [4.9516, 4.1612,   -inf],\n",
      "          [3.6068, 3.0926, 2.4886]]]])\n"
     ]
    }
   ],
   "source": [
    "attn_scores_masked_scaled = attn_scores_masked / torch.sqrt(torch.tensor(keys_t.shape[-1]))\n",
    "\n",
    "print(f\"Original keys Matrix shape: {keys.shape}\\n\")\n",
    "print(f\"Keys Matrix after splitting last dimension: {keys_rs.shape}\\n\")\n",
    "print(f\"Keys Matrix after transposition of inner dimensions: {keys_t.shape}\\n\")\n",
    "print(f\"Masked Attention Scores scaled by the square root of the keys dimension:\\n{attn_scores_masked_scaled}\")"
   ]
  },
  {
   "cell_type": "markdown",
   "id": "a5e5c8bf",
   "metadata": {},
   "source": [
    "### attention weights are being calculated by applying the softmax function on the masked and scaled attention scores "
   ]
  },
  {
   "cell_type": "code",
   "execution_count": 627,
   "id": "cf48c126",
   "metadata": {},
   "outputs": [
    {
     "name": "stdout",
     "output_type": "stream",
     "text": [
      "Attention Weights:\n",
      "tensor([[[[1.0000, 0.0000, 0.0000],\n",
      "          [0.5917, 0.4083, 0.0000],\n",
      "          [0.4031, 0.3312, 0.2657]],\n",
      "\n",
      "         [[1.0000, 0.0000, 0.0000],\n",
      "          [0.6879, 0.3121, 0.0000],\n",
      "          [0.5195, 0.3107, 0.1698]]],\n",
      "\n",
      "\n",
      "        [[[1.0000, 0.0000, 0.0000],\n",
      "          [0.5917, 0.4083, 0.0000],\n",
      "          [0.4031, 0.3312, 0.2657]],\n",
      "\n",
      "         [[1.0000, 0.0000, 0.0000],\n",
      "          [0.6879, 0.3121, 0.0000],\n",
      "          [0.5195, 0.3107, 0.1698]]]])\n"
     ]
    }
   ],
   "source": [
    "attn_weights_sm = torch.softmax(attn_scores_masked_scaled, dim=-1)\n",
    "\n",
    "print(f\"Attention Weights:\\n{attn_weights_sm}\")"
   ]
  },
  {
   "cell_type": "markdown",
   "id": "2908e572",
   "metadata": {},
   "source": [
    "### a dropout is applied "
   ]
  },
  {
   "cell_type": "code",
   "execution_count": 628,
   "id": "07b65d8b",
   "metadata": {},
   "outputs": [
    {
     "name": "stdout",
     "output_type": "stream",
     "text": [
      "Attention Weights:\n",
      "tensor([[[[1.0000, 0.0000, 0.0000],\n",
      "          [0.5917, 0.4083, 0.0000],\n",
      "          [0.4031, 0.3312, 0.2657]],\n",
      "\n",
      "         [[1.0000, 0.0000, 0.0000],\n",
      "          [0.6879, 0.3121, 0.0000],\n",
      "          [0.5195, 0.3107, 0.1698]]],\n",
      "\n",
      "\n",
      "        [[[1.0000, 0.0000, 0.0000],\n",
      "          [0.5917, 0.4083, 0.0000],\n",
      "          [0.4031, 0.3312, 0.2657]],\n",
      "\n",
      "         [[1.0000, 0.0000, 0.0000],\n",
      "          [0.6879, 0.3121, 0.0000],\n",
      "          [0.5195, 0.3107, 0.1698]]]])\n",
      "torch.Size([2, 2, 3, 3])\n"
     ]
    }
   ],
   "source": [
    "torch.manual_seed(50)\n",
    "dropout = nn.Dropout(dropout)\n",
    "attn_weights_do = dropout(attn_weights_sm)\n",
    "\n",
    "print(f\"Attention Weights:\\n{attn_weights_do}\\n{attn_weights_do.shape}\")"
   ]
  },
  {
   "cell_type": "markdown",
   "id": "47106696",
   "metadata": {},
   "source": [
    "### the context vector is being computed "
   ]
  },
  {
   "cell_type": "code",
   "execution_count": 629,
   "id": "70567564",
   "metadata": {},
   "outputs": [
    {
     "name": "stdout",
     "output_type": "stream",
     "text": [
      "Attention Weights Shape: torch.Size([2, 2, 3, 3])\n",
      "Values transposed Shape: torch.Size([2, 2, 3, 3])\n",
      "Context Vector:\n",
      "tensor([[[[2.5330, 1.7337, 1.9566],\n",
      "          [2.3132, 2.3171, 1.7606]],\n",
      "\n",
      "         [[2.5200, 1.6133, 1.8727],\n",
      "          [2.1271, 2.2419, 1.8240]],\n",
      "\n",
      "         [[2.3684, 1.4510, 1.6841],\n",
      "          [2.0086, 2.0463, 1.7174]]],\n",
      "\n",
      "\n",
      "        [[[2.5330, 1.7337, 1.9566],\n",
      "          [2.3132, 2.3171, 1.7606]],\n",
      "\n",
      "         [[2.5200, 1.6133, 1.8727],\n",
      "          [2.1271, 2.2419, 1.8240]],\n",
      "\n",
      "         [[2.3684, 1.4510, 1.6841],\n",
      "          [2.0086, 2.0463, 1.7174]]]])\n",
      "torch.Size([2, 3, 2, 3])\n"
     ]
    }
   ],
   "source": [
    "context_vector = (attn_weights_do @ values_t).transpose(1, 2)\n",
    "\n",
    "print(f\"Attention Weights Shape: {attn_weights_do.shape}\\nValues transposed Shape: {values_t.shape}\")\n",
    "print(f\"Context Vector:\\n{context_vector}\\n{context_vector.shape}\")"
   ]
  },
  {
   "cell_type": "code",
   "execution_count": 630,
   "id": "627db450",
   "metadata": {},
   "outputs": [
    {
     "name": "stdout",
     "output_type": "stream",
     "text": [
      "Final Context Vector:\n",
      "tensor([[[2.5330, 1.7337, 1.9566, 2.3132, 2.3171, 1.7606],\n",
      "         [2.5200, 1.6133, 1.8727, 2.1271, 2.2419, 1.8240],\n",
      "         [2.3684, 1.4510, 1.6841, 2.0086, 2.0463, 1.7174]],\n",
      "\n",
      "        [[2.5330, 1.7337, 1.9566, 2.3132, 2.3171, 1.7606],\n",
      "         [2.5200, 1.6133, 1.8727, 2.1271, 2.2419, 1.8240],\n",
      "         [2.3684, 1.4510, 1.6841, 2.0086, 2.0463, 1.7174]]])\n",
      "torch.Size([2, 3, 6])\n"
     ]
    }
   ],
   "source": [
    "context_vector = context_vector.contiguous().view(batch_size2, context_length, output_dimension)\n",
    "\n",
    "print(f\"Final Context Vector:\\n{context_vector}\\n{context_vector.shape}\")"
   ]
  }
 ],
 "metadata": {
  "kernelspec": {
   "display_name": "llm_built_steps",
   "language": "python",
   "name": "python3"
  },
  "language_info": {
   "codemirror_mode": {
    "name": "ipython",
    "version": 3
   },
   "file_extension": ".py",
   "mimetype": "text/x-python",
   "name": "python",
   "nbconvert_exporter": "python",
   "pygments_lexer": "ipython3",
   "version": "3.11.13"
  }
 },
 "nbformat": 4,
 "nbformat_minor": 5
}

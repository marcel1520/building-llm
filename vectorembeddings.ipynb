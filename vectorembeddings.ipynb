{
 "cells": [
  {
   "cell_type": "markdown",
   "id": "e6716504",
   "metadata": {},
   "source": [
    "# Lecture 10: Token Embeddings"
   ]
  },
  {
   "cell_type": "code",
   "execution_count": 1,
   "id": "27fb0204",
   "metadata": {},
   "outputs": [],
   "source": [
    "import gensim.downloader as api\n",
    "import torch\n",
    "import numpy as np"
   ]
  },
  {
   "cell_type": "code",
   "execution_count": 2,
   "id": "64e62f3a",
   "metadata": {},
   "outputs": [],
   "source": [
    "model = api.load(\"word2vec-google-news-300\")"
   ]
  },
  {
   "cell_type": "code",
   "execution_count": 3,
   "id": "31fb2c31",
   "metadata": {},
   "outputs": [
    {
     "name": "stdout",
     "output_type": "stream",
     "text": [
      "300 <class 'numpy.ndarray'>\n",
      "300 <class 'torch.Tensor'>\n"
     ]
    },
    {
     "name": "stderr",
     "output_type": "stream",
     "text": [
      "/var/folders/mf/77pcg3t95ljb549sws1g9s_r0000gn/T/ipykernel_64280/1422912554.py:4: UserWarning: The given NumPy array is not writable, and PyTorch does not support non-writable tensors. This means writing to this tensor will result in undefined behavior. You may want to copy the array to protect its data or make it writable before converting it to a tensor. This type of warning will be suppressed for the rest of this program. (Triggered internally at /Users/runner/work/pytorch/pytorch/pytorch/torch/csrc/utils/tensor_numpy.cpp:212.)\n",
      "  king = torch.from_numpy(king).type(torch.float32)\n"
     ]
    }
   ],
   "source": [
    "word_vectors = model\n",
    "print(len(word_vectors[\"queen\"]), type(word_vectors[\"king\"]))\n",
    "king = word_vectors[\"king\"]\n",
    "king = torch.from_numpy(king).type(torch.float32)\n",
    "print(len(king), type(king))"
   ]
  },
  {
   "cell_type": "code",
   "execution_count": 4,
   "id": "b3295abb",
   "metadata": {},
   "outputs": [
    {
     "name": "stdout",
     "output_type": "stream",
     "text": [
      "[('queen', 0.7118192911148071), ('monarch', 0.6189674139022827), ('princess', 0.5902430415153503), ('crown_prince', 0.5499460697174072)]\n"
     ]
    }
   ],
   "source": [
    "print(word_vectors.most_similar(positive=[\"king\", \"woman\"], negative=[\"man\"], topn=4))"
   ]
  },
  {
   "cell_type": "code",
   "execution_count": 5,
   "id": "c2dddcab",
   "metadata": {},
   "outputs": [
    {
     "name": "stdout",
     "output_type": "stream",
     "text": [
      "0.867677\n",
      "0.42715883\n",
      "0.25176466\n",
      "0.6151221\n",
      "0.33500588\n",
      "0.22717671\n",
      "0.73135483\n",
      "0.31912953\n",
      "0.2978142\n",
      "0.8106429\n",
      "0.66404927\n",
      "0.19174641\n",
      "0.74649847\n"
     ]
    }
   ],
   "source": [
    "print(word_vectors.similarity(\"film\", \"movie\"))\n",
    "print(word_vectors.similarity(\"Hand\", \"Foot\"))\n",
    "print(word_vectors.similarity(\"Food\", \"Steak\"))\n",
    "print(word_vectors.similarity(\"cash\", \"money\"))\n",
    "print(word_vectors.similarity(\"bank\", \"finance\"))\n",
    "print(word_vectors.similarity(\"fire\", \"water\"))\n",
    "print(word_vectors.similarity(\"soccer\", \"football\"))\n",
    "print(word_vectors.similarity(\"water\", \"wetness\"))\n",
    "print(word_vectors.similarity(\"sugar\", \"sweet\"))\n",
    "print(word_vectors.similarity(\"dog\", \"puppy\"))\n",
    "print(word_vectors.similarity(\"computer\", \"laptop\"))\n",
    "print(word_vectors.similarity(\"country\", \"land\"))\n",
    "print(word_vectors.similarity(\"cat\", \"kitten\"))"
   ]
  },
  {
   "cell_type": "code",
   "execution_count": 6,
   "id": "faf3db7c",
   "metadata": {},
   "outputs": [
    {
     "name": "stdout",
     "output_type": "stream",
     "text": [
      "[('towers', 0.8531749844551086), ('skyscraper', 0.6417424082756042), ('Tower', 0.639177143573761)]\n",
      "[('potable_water', 0.6799106597900391), ('Water', 0.670687198638916), ('sewage', 0.6619377136230469)]\n",
      "[('refined_sugar', 0.7480025887489319), ('cane_sugar', 0.63625168800354), ('turbinado', 0.6269999742507935)]\n",
      "[('syrup', 0.602519154548645), ('wildflower_honey', 0.6022059321403503), ('berry', 0.5947866439819336)]\n"
     ]
    }
   ],
   "source": [
    "print(word_vectors.most_similar(\"tower\", topn=3))\n",
    "print(word_vectors.most_similar(\"water\", topn=3))\n",
    "print(word_vectors.most_similar(\"sugar\", topn=3))\n",
    "print(word_vectors.most_similar(\"honey\", topn=3))"
   ]
  },
  {
   "cell_type": "code",
   "execution_count": 7,
   "id": "a53ae53c",
   "metadata": {},
   "outputs": [
    {
     "name": "stdout",
     "output_type": "stream",
     "text": [
      "magnitude of difference between pupil and student is 3.315\n",
      "magnitude of difference between teacher and educator is 2.763\n",
      "magnitude of difference between school and university is 2.472\n"
     ]
    }
   ],
   "source": [
    "word1 = \"pupil\"\n",
    "word2 = \"student\"\n",
    "\n",
    "word3 = \"teacher\"\n",
    "word4 = \"educator\"\n",
    "\n",
    "word5 = \"school\"\n",
    "word6 = \"university\"\n",
    "\n",
    "vector_difference1 = model[word1] - model[word2]\n",
    "vector_difference2 = model[word3] - model[word4]\n",
    "vector_difference3 = model[word5] - model[word6]\n",
    "\n",
    "magnitude_of_difference1 = np.linalg.norm(vector_difference1)\n",
    "magnitude_of_difference2 = np.linalg.norm(vector_difference2)\n",
    "magnitude_of_difference3 = np.linalg.norm(vector_difference3)\n",
    "\n",
    "print(f\"magnitude of difference between {word1} and {word2} is {magnitude_of_difference1:.3f}\")\n",
    "print(f\"magnitude of difference between {word3} and {word4} is {magnitude_of_difference2:.3f}\")\n",
    "print(f\"magnitude of difference between {word5} and {word6} is {magnitude_of_difference3:.3f}\")"
   ]
  }
 ],
 "metadata": {
  "kernelspec": {
   "display_name": "llm_built_steps",
   "language": "python",
   "name": "python3"
  },
  "language_info": {
   "codemirror_mode": {
    "name": "ipython",
    "version": 3
   },
   "file_extension": ".py",
   "mimetype": "text/x-python",
   "name": "python",
   "nbconvert_exporter": "python",
   "pygments_lexer": "ipython3",
   "version": "3.11.13"
  }
 },
 "nbformat": 4,
 "nbformat_minor": 5
}

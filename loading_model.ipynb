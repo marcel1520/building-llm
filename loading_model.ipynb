{
 "cells": [
  {
   "cell_type": "code",
   "execution_count": 10,
   "id": "67bd287d",
   "metadata": {},
   "outputs": [],
   "source": [
    "from model_with_feature_classes_1 import GPTModel\n",
    "import torch\n",
    "from torch import nn\n",
    "import tiktoken"
   ]
  },
  {
   "cell_type": "code",
   "execution_count": 11,
   "id": "4f2d87bb",
   "metadata": {},
   "outputs": [],
   "source": [
    "tokenizer = tiktoken.get_encoding(\"gpt2\")"
   ]
  },
  {
   "cell_type": "code",
   "execution_count": 12,
   "id": "131e09a1",
   "metadata": {},
   "outputs": [],
   "source": [
    "device = \"cpu\""
   ]
  },
  {
   "cell_type": "code",
   "execution_count": 13,
   "id": "0ad57865",
   "metadata": {},
   "outputs": [],
   "source": [
    "CHOOSE_MODEL = \"gpt2-small (124M)\"\n",
    "INPUT_PROMPT = \"Every effort moves\"\n",
    "\n",
    "BASE_CONFIG = {\n",
    "    \"vocab_size\": 50257,\n",
    "    \"context_length\": 1024,\n",
    "    \"drop_rate\": 0.1,\n",
    "    \"qkv_bias\": True\n",
    "}\n",
    "\n",
    "model_configs = {\n",
    "    \"gpt2-small (124M)\": {\"emb_dim\": 768, \"n_layers\": 12, \"n_heads\": 12},\n",
    "    \"gpt2-medium (355M)\": {\"emb_dim\": 1024, \"n_layers\": 24, \"n_heads\": 16},\n",
    "    \"gpt2-large (774M)\": {\"emb_dim\": 1280, \"n_layers\": 36, \"n_heads\": 20},\n",
    "    \"gpt2-xl (1558M)\": {\"emb_dim\": 1600, \"n_layers\": 48, \"n_heads\": 25}\n",
    "}\n",
    "\n",
    "BASE_CONFIG.update(model_configs[CHOOSE_MODEL])"
   ]
  },
  {
   "cell_type": "code",
   "execution_count": 14,
   "id": "d6bbecb6",
   "metadata": {},
   "outputs": [],
   "source": [
    "model = GPTModel(BASE_CONFIG)\n",
    "\n",
    "num_classes = 2\n",
    "model.out_head = torch.nn.Linear(BASE_CONFIG[\"emb_dim\"], num_classes)\n",
    "\n",
    "model.load_state_dict(torch.load(\"review_classifier.pt\", map_location=\"cpu\"))\n",
    "model.eval();"
   ]
  },
  {
   "cell_type": "code",
   "execution_count": 15,
   "id": "3ca3541d",
   "metadata": {},
   "outputs": [],
   "source": [
    "def classify_review(text, model, tokenizer, device, max_length=None, pad_token_id=50256):\n",
    "  model.eval()\n",
    "\n",
    "  input_ids = tokenizer.encode(text)\n",
    "  supported_context_length = model.pos_emb.weight.shape[0]   \n",
    "  input_ids = input_ids[:min(max_length, supported_context_length)]\n",
    "\n",
    "  input_ids += [pad_token_id] * (max_length - len(input_ids))\n",
    "  input_tensor = torch.tensor(input_ids, device=device).unsqueeze(0)\n",
    "  with torch.no_grad():\n",
    "    logits = model(input_tensor)[:, -1, :]\n",
    "  predicted_label = torch.argmax(logits, dim=-1).item()\n",
    "\n",
    "  return \"spam\" if predicted_label == 1 else \"not spam\""
   ]
  },
  {
   "cell_type": "code",
   "execution_count": 16,
   "id": "2ae70182",
   "metadata": {},
   "outputs": [
    {
     "name": "stdout",
     "output_type": "stream",
     "text": [
      "spam\n"
     ]
    }
   ],
   "source": [
    "text1 = (\n",
    "    \"You are a winner, you have been specialy selected\" \n",
    "    \" to recieve $1000 cash or a $2000 award.\"\n",
    ")\n",
    "\n",
    "print(classify_review(text1, model, tokenizer, device, 120))"
   ]
  },
  {
   "cell_type": "code",
   "execution_count": 17,
   "id": "baf046b7",
   "metadata": {},
   "outputs": [
    {
     "name": "stdout",
     "output_type": "stream",
     "text": [
      "not spam\n"
     ]
    }
   ],
   "source": [
    "text2 = (\n",
    "    \"hey mate how are you ? I am coming over later, \"\n",
    "    \"are you there already ?\"\n",
    ")\n",
    "\n",
    "print(classify_review(text2, model, tokenizer, device, 120))"
   ]
  },
  {
   "cell_type": "code",
   "execution_count": 19,
   "id": "22ca1acc",
   "metadata": {},
   "outputs": [
    {
     "name": "stdout",
     "output_type": "stream",
     "text": [
      "spam\n"
     ]
    }
   ],
   "source": [
    "text3 = (\n",
    "    \"Answer in the next hour and you can win a great price of $1000, \"\n",
    "    \"do not miss this chance or you will get another one tomorrow\"\n",
    ")\n",
    "\n",
    "print(classify_review(text3, model, tokenizer, device, 120))"
   ]
  },
  {
   "cell_type": "code",
   "execution_count": 20,
   "id": "9bee8d4f",
   "metadata": {},
   "outputs": [
    {
     "name": "stdout",
     "output_type": "stream",
     "text": [
      "not spam\n"
     ]
    }
   ],
   "source": [
    "text4 = (\n",
    "    \"hey there just want to remind you about the $500 for the ticket, \"\n",
    "    \"bring it tomorrow when we meet at the arena.\"\n",
    ")\n",
    "\n",
    "print(classify_review(text4, model, tokenizer, device, 120))"
   ]
  }
 ],
 "metadata": {
  "kernelspec": {
   "display_name": "llm_built_steps",
   "language": "python",
   "name": "python3"
  },
  "language_info": {
   "codemirror_mode": {
    "name": "ipython",
    "version": 3
   },
   "file_extension": ".py",
   "mimetype": "text/x-python",
   "name": "python",
   "nbconvert_exporter": "python",
   "pygments_lexer": "ipython3",
   "version": "3.11.13"
  }
 },
 "nbformat": 4,
 "nbformat_minor": 5
}

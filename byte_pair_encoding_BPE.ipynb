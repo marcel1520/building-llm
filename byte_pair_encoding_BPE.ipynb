{
 "cells": [
  {
   "cell_type": "code",
   "execution_count": 106,
   "id": "4f902fc2",
   "metadata": {},
   "outputs": [],
   "source": [
    "import re\n",
    "import collections"
   ]
  },
  {
   "cell_type": "markdown",
   "id": "cad1d952",
   "metadata": {},
   "source": [
    "### ---> reading a text"
   ]
  },
  {
   "cell_type": "code",
   "execution_count": 107,
   "id": "54405384",
   "metadata": {},
   "outputs": [
    {
     "name": "stdout",
     "output_type": "stream",
     "text": [
      "I HAD always thought Jack Gisburn rather a cheap genius--though a good\n"
     ]
    }
   ],
   "source": [
    "def read_txt_file(name, method):\n",
    "    with open(name, method) as f:\n",
    "        corpus = f.read()\n",
    "    return corpus\n",
    "\n",
    "the_verdict = read_txt_file(\"the-verdict.txt\", \"r\")\n",
    "print(the_verdict[:70])"
   ]
  },
  {
   "cell_type": "markdown",
   "id": "a56d0092",
   "metadata": {},
   "source": [
    "### ---> creating vocabulary with unique words and chars (Word based tokenization)"
   ]
  },
  {
   "cell_type": "code",
   "execution_count": 108,
   "id": "5884d0b9",
   "metadata": {},
   "outputs": [
    {
     "name": "stdout",
     "output_type": "stream",
     "text": [
      "Vocabulary Size Word based: 1130\n"
     ]
    }
   ],
   "source": [
    "def word_based_vocab(text):\n",
    "    word_content = []\n",
    "    split_words = re.split(r'([.,:;!_?()\"\\']|--|\\s)', text)\n",
    "    for cont in split_words:\n",
    "        if cont.strip():\n",
    "            word_content.append(cont.strip())\n",
    "    word_vocab = sorted(set(word_content))\n",
    "    return word_vocab\n",
    "\n",
    "word__based_vocab = word_based_vocab(the_verdict)\n",
    "print(f\"Vocabulary Size Word based: {len(word__based_vocab)}\")\n",
    "        "
   ]
  },
  {
   "cell_type": "markdown",
   "id": "e573410e",
   "metadata": {},
   "source": [
    "### ---> creating vocabulary with unique chars (Character based tokenization)"
   ]
  },
  {
   "cell_type": "code",
   "execution_count": 109,
   "id": "afbd8f35",
   "metadata": {},
   "outputs": [
    {
     "name": "stdout",
     "output_type": "stream",
     "text": [
      "Vocabulary Size Character based: 60\n"
     ]
    }
   ],
   "source": [
    "def character_based_vocab(text):\n",
    "    corpus_pre = re.split(r'([.,:;!_?()\"\\']|--|\\s)', text)\n",
    "    corpus_pre_1 = []\n",
    "    char_content = []\n",
    "    for word in corpus_pre:\n",
    "        if word.strip():\n",
    "            corpus_pre_1.append(word.strip())\n",
    "    unique_corpus_pre1 = set(corpus_pre_1)\n",
    "    unique_corpus = list(unique_corpus_pre1)\n",
    "    for item in unique_corpus:\n",
    "        for char in item:\n",
    "            char_content.append(char)\n",
    "    all_chars_unique = sorted(set(char_content))\n",
    "    return all_chars_unique, corpus_pre_1\n",
    "\n",
    "character__based_vocab, corpus__pre_1 = character_based_vocab(the_verdict)\n",
    "print(f\"Vocabulary Size Character based: {len(character__based_vocab)}\")"
   ]
  },
  {
   "cell_type": "markdown",
   "id": "484a2c65",
   "metadata": {},
   "source": [
    "### ---> mapping chars and their frequencies in word context"
   ]
  },
  {
   "cell_type": "code",
   "execution_count": 110,
   "id": "2272f8a5",
   "metadata": {},
   "outputs": [],
   "source": [
    "def freq_mapping(word_list):\n",
    "    freq_mapping = {}\n",
    "    end_of_word = \"</w>\"\n",
    "    for word in word_list:\n",
    "        if word:\n",
    "            char_list = list(word) + [end_of_word]\n",
    "            chars_tuple = tuple(char_list)\n",
    "            if chars_tuple in freq_mapping:\n",
    "                freq_mapping[chars_tuple] += 1\n",
    "            else:\n",
    "                freq_mapping[chars_tuple] = 1\n",
    "    return freq_mapping\n",
    "\n",
    "freq__mapping = freq_mapping(corpus__pre_1)"
   ]
  },
  {
   "cell_type": "markdown",
   "id": "ae5e7e2d",
   "metadata": {},
   "source": [
    "### ---> get char pairs and their frequencies using defaultdict"
   ]
  },
  {
   "cell_type": "code",
   "execution_count": 111,
   "id": "8b580027",
   "metadata": {},
   "outputs": [],
   "source": [
    "def get_pair_frequenciesV1(word_dict):\n",
    "    pair_counts = collections.defaultdict(int)\n",
    "    for word, freq in word_dict.items():\n",
    "        split_words = list(word)\n",
    "        for i in range(len(split_words) - 1):\n",
    "            pair = (split_words[i], split_words[i+1])\n",
    "            pair_counts[pair] += freq\n",
    "    return pair_counts\n",
    "\n",
    "pair_frequenciesV1 = get_pair_frequenciesV1(freq__mapping)\n"
   ]
  },
  {
   "cell_type": "markdown",
   "id": "3aef41c2",
   "metadata": {},
   "source": [
    "### ---> get char pairs and their frequencies using regular dict"
   ]
  },
  {
   "cell_type": "code",
   "execution_count": 112,
   "id": "b9a323fb",
   "metadata": {},
   "outputs": [
    {
     "name": "stdout",
     "output_type": "stream",
     "text": [
      "Most frequent pair: ('e', '</w>')\n",
      "Number of occurrences: 729\n"
     ]
    }
   ],
   "source": [
    "def get_pair_frequenciesV2(word_dict):  \n",
    "    pair_counts = {}\n",
    "    for word, freq in word_dict.items():\n",
    "        split_words = list(word)\n",
    "        for i in range(len(split_words) - 1):\n",
    "            pair = (split_words[i], split_words[i+1])\n",
    "            if pair not in pair_counts.keys():\n",
    "                pair_counts[pair] = freq\n",
    "            else:\n",
    "                pair_counts[pair] += freq\n",
    "    return pair_counts\n",
    "\n",
    "pair_frequenciesV2 = get_pair_frequenciesV2(freq__mapping)\n",
    "\n",
    "best_pair = max(pair_frequenciesV2, key=pair_frequenciesV2.get)\n",
    "print(f\"Most frequent pair: {best_pair}\")\n",
    "best_freq = pair_frequenciesV2[best_pair]\n",
    "print(f\"Number of occurrences: {best_freq}\")"
   ]
  },
  {
   "cell_type": "markdown",
   "id": "aa842e54",
   "metadata": {},
   "source": [
    "### ---> merge one pair from frequency dictionary"
   ]
  },
  {
   "cell_type": "code",
   "execution_count": 113,
   "id": "b8f21f56",
   "metadata": {},
   "outputs": [],
   "source": [
    "def merge_pair(pair_to_merge, new_mapping):\n",
    "    mapping = {}\n",
    "    (first, second) = pair_to_merge\n",
    "    merged_token = first + second\n",
    "    for word_tuple, freq in new_mapping.items():\n",
    "        chars = list(word_tuple)\n",
    "        new_chars = []\n",
    "        i = 0\n",
    "        while i < len(word_tuple):\n",
    "            if i < len(chars) - 1 and chars[i] == first and chars[i+1] == second:\n",
    "                new_chars.append(merged_token)\n",
    "                i += 2\n",
    "            else:\n",
    "                new_chars.append(chars[i])\n",
    "                i += 1\n",
    "        mapping[tuple(new_chars)] = freq\n",
    "    return mapping\n",
    "\n",
    "pair_merge = merge_pair((\"I\", \"</w>\"), freq__mapping)"
   ]
  },
  {
   "cell_type": "markdown",
   "id": "3ad6d31c",
   "metadata": {},
   "source": [
    "### ---> merging loop"
   ]
  },
  {
   "cell_type": "code",
   "execution_count": 114,
   "id": "b8b5036f",
   "metadata": {},
   "outputs": [],
   "source": [
    "num_merges = 40\n",
    "merges = {}\n",
    "current_splits = freq__mapping.copy()\n",
    "\n",
    "for i in range(num_merges):\n",
    "    pair_stats = get_pair_frequenciesV1(current_splits)\n",
    "    if not pair_stats:\n",
    "        print(\"No more pairs to merge\")\n",
    "        break\n",
    "\n",
    "    best_pair = max(pair_stats, key=pair_stats.get)\n",
    "    best_freq = pair_stats[best_pair]\n",
    "    \n",
    "    current_splits = merge_pair(best_pair, current_splits)\n",
    "    new_token = best_pair[0] + best_pair[1]\n",
    "    \n",
    "    character__based_vocab.append(new_token)\n",
    "    merges[best_pair] = new_token\n",
    "    "
   ]
  },
  {
   "cell_type": "markdown",
   "id": "b9069ce3",
   "metadata": {},
   "source": [
    "### ---> results overview"
   ]
  },
  {
   "cell_type": "code",
   "execution_count": 115,
   "id": "f05ccd6d",
   "metadata": {},
   "outputs": [
    {
     "name": "stdout",
     "output_type": "stream",
     "text": [
      "\n",
      "--- BPE Merges Complete ---\n",
      "Final Vocabulary Size 100\n",
      "\n",
      "Learned Merges (Pair -> New Token):\n",
      "('e', '</w>') -> 'e</w>'\n",
      "('t', '</w>') -> 't</w>'\n",
      "('d', '</w>') -> 'd</w>'\n",
      "('s', '</w>') -> 's</w>'\n",
      "('t', 'h') -> 'th'\n",
      "('n', '</w>') -> 'n</w>'\n",
      "('y', '</w>') -> 'y</w>'\n",
      "('i', 'n') -> 'in'\n",
      "(',', '</w>') -> ',</w>'\n",
      "('.', '</w>') -> '.</w>'\n",
      "('o', 'u') -> 'ou'\n",
      "('e', 'r') -> 'er'\n",
      "('e', 'd</w>') -> 'ed</w>'\n",
      "('th', 'e</w>') -> 'the</w>'\n",
      "('o', '</w>') -> 'o</w>'\n",
      "('a', 'n') -> 'an'\n",
      "('f', '</w>') -> 'f</w>'\n",
      "('\"', '</w>') -> '\"</w>'\n",
      "('h', 'a') -> 'ha'\n",
      "('in', 'g') -> 'ing'\n",
      "('I', '</w>') -> 'I</w>'\n",
      "('h', 'i') -> 'hi'\n",
      "('ing', '</w>') -> 'ing</w>'\n",
      "('h', 'e</w>') -> 'he</w>'\n",
      "('o', 'n') -> 'on'\n",
      "('t', 'o</w>') -> 'to</w>'\n",
      "('w', 'a') -> 'wa'\n",
      "('o', 'f</w>') -> 'of</w>'\n",
      "('-', '-') -> '--'\n",
      "('--', '</w>') -> '--</w>'\n",
      "('o', 'r') -> 'or'\n",
      "('a', '</w>') -> 'a</w>'\n",
      "(\"'\", '</w>') -> ''</w>'\n",
      "('e', 'a') -> 'ea'\n",
      "('an', 'd</w>') -> 'and</w>'\n",
      "('s', 't') -> 'st'\n",
      "('e', 'n') -> 'en'\n",
      "('er', '</w>') -> 'er</w>'\n",
      "('u', 'r') -> 'ur'\n",
      "('a', 't</w>') -> 'at</w>'\n",
      "\n",
      "Final Word Splits after all Merges\n",
      "{('I</w>',): 122, ('H', 'A', 'D', '</w>'): 1, ('a', 'l', 'wa', 'y', 's</w>'): 6, ('th', 'ou', 'g', 'h', 't</w>'): 8, ('J', 'a', 'c', 'k', '</w>'): 15, ('G', 'i', 's', 'b', 'ur', 'n</w>'): 19, ('r', 'a', 'th', 'er</w>'): 6, ('a</w>',): 81, ('c', 'h', 'ea', 'p', '</w>'): 1, ('g', 'en', 'i', 'u', 's</w>'): 1, ('--</w>',): 97, ('th', 'ou', 'g', 'h', '</w>'): 2, ('g', 'o', 'o', 'd</w>'): 2, ('f', 'e', 'l', 'l', 'o', 'w', '</w>'): 2, ('en', 'ou', 'g', 'h', '</w>'): 5, ('s', 'o</w>'): 16, ('i', 't</w>'): 68, ('wa', 's</w>'): 71, ('n', 'o</w>'): 8, ('g', 'r', 'ea', 't</w>'): 2, ('s', 'ur', 'p', 'r', 'i', 's', 'e</w>'): 3, ('to</w>',): 97, ('m', 'e</w>'): 37, ('h', 'ea', 'r', '</w>'): 4, ('th', 'at</w>'): 57, (',</w>',): 229, ('i', 'n</w>'): 40, ('the</w>',): 168, ('h', 'e', 'i', 'g', 'h', 't</w>'): 2, ('of</w>',): 98, ('hi', 's</w>'): 61, ('g', 'l', 'or', 'y</w>'): 3, ('he</w>',): 64, ('ha', 'd</w>'): 53, ('d', 'r', 'o', 'p', 'p', 'ed</w>'): 2, ('p', 'a', 'in', 't', 'ing</w>'): 9, ('m', 'a', 'r', 'r', 'i', 'ed</w>'): 3, ('r', 'i', 'c', 'h', '</w>'): 2, ('w', 'i', 'd', 'o', 'w', '</w>'): 1, ('and</w>',): 75, ('e', 'st', 'a', 'b', 'l', 'i', 's', 'h', 'ed</w>'): 1, ('hi', 'm', 's', 'e', 'l', 'f</w>'): 9, ('v', 'i', 'l', 'l', 'a</w>'): 1, ('o', 'n</w>'): 27, ('R', 'i', 'v', 'i', 'er', 'a</w>'): 3, ('.</w>',): 212, ('(', '</w>'): 3, ('T', 'h', 'ou', 'g', 'h', '</w>'): 1, ('w', 'ou', 'l', 'd</w>'): 9, ('ha', 'v', 'e</w>'): 26, ('b', 'e', 'e', 'n</w>'): 18, ('R', 'o', 'm', 'e</w>'): 1, ('or', '</w>'): 9, ('F', 'l', 'or', 'en', 'c', 'e</w>'): 1, (')', '</w>'): 3, ('\"</w>',): 137, ('T', 'he</w>'): 16, ('w', 'ha', 't</w>'): 9, ('w', 'o', 'm', 'e', 'n</w>'): 4, ('c', 'a', 'l', 'l', 'ed</w>'): 3, ('c', 'a', 'n</w>'): 5, ('M', 'r', 's</w>'): 22, ('G', 'i', 'd', 'e', 'o', 'n</w>'): 1, ('T', 'h', 'w', 'ing</w>'): 3, ('l', 'a', 's', 't</w>'): 6, ('C', 'hi', 'c', 'a', 'g', 'o</w>'): 1, ('s', 'i', 't', 't', 'er</w>'): 1, ('d', 'e', 'p', 'l', 'or', 'ing</w>'): 1, ('u', 'n', 'a', 'c', 'c', 'ou', 'n', 't', 'a', 'b', 'l', 'e</w>'): 1, ('a', 'b', 'd', 'i', 'c', 'a', 't', 'i', 'o', 'n</w>'): 2, ('O', 'f</w>'): 5, ('c', 'ou', 'r', 's', 'e</w>'): 6, (\"'</w>\",): 94, ('s</w>',): 38, ('g', 'o', 'ing</w>'): 1, ('s', 'en', 'd</w>'): 1, ('v', 'a', 'l', 'u', 'e</w>'): 1, ('m', 'y</w>'): 40, ('p', 'i', 'c', 't', 'ur', 'e</w>'): 11, ('wa', 'y</w>'): 5, ('u', 'p', '</w>'): 20, (';', '</w>'): 22, ('b', 'u', 't</w>'): 13, ('d', 'o', 'n</w>'): 4, ('t</w>',): 31, ('th', 'in', 'k', '</w>'): 4, ('M', 'r', '</w>'): 2, ('R', 'i', 'c', 'k', 'ha', 'm', '</w>'): 7, ('l', 'o', 's', 's</w>'): 1, ('A', 'r', 'r', 't</w>'): 1, ('i', 's</w>'): 9, ('a', 'l', 'l', '</w>'): 13, ('w', 'or', 'd</w>'): 2, ('l', 'i', 'p', 's</w>'): 3, ('m', 'u', 'l', 't', 'i', 'p', 'l', 'i', 'ed</w>'): 1, ('i', 't', 's</w>'): 4, ('_', '</w>'): 36, ('r', 's</w>'): 1, ('a', 's</w>'): 24, ('th', 'e', 'y</w>'): 9, ('w', 'er', 'e</w>'): 9, ('r', 'e', 'f', 'l', 'e', 'c', 't', 'ed</w>'): 1, ('a', 'n</w>'): 12, ('en', 'd', 'l', 'e', 's', 's</w>'): 1, ('v', 'i', 'st', 'a</w>'): 2, ('m', 'i', 'r', 'r', 'or', 's</w>'): 1, ('A', 'n', 'd</w>'): 9, ('n', 'o', 't</w>'): 18, ('on', 'l', 'y</w>'): 10, ('T', 'h', 'w', 'ing', 's</w>'): 1, ('w', 'h', 'o</w>'): 7, ('m', 'ou', 'r', 'n', 'ed</w>'): 1, ('H', 'a', 'd</w>'): 1, ('e', 'x', 'q', 'u', 'i', 's', 'i', 't', 'e</w>'): 1, ('H', 'er', 'm', 'i', 'a</w>'): 2, ('C', 'r', 'o', 'f', 't</w>'): 4, ('at</w>',): 21, ('G', 'r', 'a', 'f', 't', 'o', 'n</w>'): 1, ('G', 'a', 'l', 'l', 'er', 'y</w>'): 1, ('s', 'h', 'o', 'w', '</w>'): 2, ('st', 'o', 'p', 'p', 'ed</w>'): 1, ('b', 'e', 'f', 'or', 'e</w>'): 3, ('M', 'o', 'on', '-', 'd', 'an', 'c', 'er', 's</w>'): 1, ('s', 'a', 'y</w>'): 12, ('w', 'i', 'th', '</w>'): 32, ('t', 'ea', 'r', 's</w>'): 2, ('h', 'er</w>'): 20, ('e', 'y', 'e', 's</w>'): 8, (':', '</w>'): 21, ('W', 'e</w>'): 1, ('s', 'ha', 'l', 'l', '</w>'): 1, ('l', 'o', 'o', 'k', '</w>'): 3, ('u', 'p', 'o', 'n</w>'): 1, ('l', 'i', 'k', 'e</w>'): 8, ('a', 'g', 'a', 'i', 'n</w>'): 7, ('?', '</w>'): 24, ('W', 'e', 'l', 'l', '</w>'): 6, ('!', '</w>'): 24, ('e', 'v', 'e', 'n</w>'): 4, ('th', 'r', 'ou', 'g', 'h', '</w>'): 9, ('p', 'r', 'i', 's', 'm', '</w>'): 1, ('f', 'e', 'l', 't</w>'): 7, ('a', 'b', 'l', 'e</w>'): 2, ('f', 'a', 'c', 'e</w>'): 5, ('f', 'a', 'c', 't</w>'): 6, ('e', 'q', 'u', 'an', 'i', 'm', 'i', 't', 'y</w>'): 1, ('P', 'o', 'or', '</w>'): 3, ('m', 'a', 'd', 'e</w>'): 3, ('hi', 'm', '</w>'): 33, ('f', 'i', 't', 't', 'ing</w>'): 1, ('s', 'h', 'ou', 'l', 'd</w>'): 3, ('m', 'ou', 'r', 'n</w>'): 1, ('A', 'm', 'on', 'g', '</w>'): 1, ('o', 'w', 'n</w>'): 7, ('s', 'e', 'x', '</w>'): 1, ('f', 'e', 'w', 'er</w>'): 1, ('r', 'e', 'g', 'r', 'e', 't', 's</w>'): 1, ('h', 'ea', 'r', 'd</w>'): 3, ('t', 'r', 'a', 'd', 'e</w>'): 1, ('ha', 'r', 'd', 'l', 'y</w>'): 1, ('m', 'ur', 'm', 'ur', '</w>'): 1, ('P', 'r', 'o', 'f', 'e', 's', 's', 'i', 'on', 'a', 'l', '</w>'): 1, ('j', 'ea', 'l', 'ou', 's', 'y</w>'): 2, ('P', 'er', 'ha', 'p', 's</w>'): 1, ('I', 'f</w>'): 3, ('h', 'on', 'ou', 'r', '</w>'): 3, ('c', 'r', 'a', 'f', 't</w>'): 1, ('v', 'in', 'd', 'i', 'c', 'a', 't', 'ed</w>'): 2, ('b', 'y</w>'): 14, ('l', 'i', 't', 't', 'l', 'e</w>'): 6, ('C', 'l', 'a', 'u', 'd', 'e</w>'): 1, ('N', 'u', 't', 'l', 'e', 'y</w>'): 1, ('f', 'a', 'i', 'th', '</w>'): 1, ('b', 'r', 'ou', 'g', 'h', 't</w>'): 2, ('ou', 't</w>'): 12, ('B', 'ur', 'l', 'ing', 't', 'o', 'n</w>'): 1, ('v', 'er', 'y</w>'): 1, ('h', 'an', 'd', 's', 'o', 'm', 'e</w>'): 3, ('o', 'b', 'i', 't', 'u', 'a', 'r', 'y</w>'): 1, ('on', 'e</w>'): 23, ('th', 'o', 's', 'e</w>'): 2, ('s', 'h', 'o', 'w', 'y</w>'): 4, ('a', 'r', 't', 'i', 'c', 'l', 'e', 's</w>'): 1, ('st', 'o', 'c', 'k', 'ed</w>'): 1, ('r', 'an', 'd', 'o', 'm', '</w>'): 1, ('t', 'e', 'c', 'h', 'n', 'i', 'c', 'a', 'l', 'i', 't', 'i', 'e', 's</w>'): 1, ('w', 'o', 'n</w>'): 1, ('w', 'h', 'o', 'm', '</w>'): 1, ('c', 'o', 'm', 'p', 'a', 'r', 'ed</w>'): 1, ('r', 'e', 's', 'o', 'l', 'v', 'e</w>'): 2, ('b', 'e', 'ing</w>'): 4, ('a', 'p', 'p', 'a', 'r', 'en', 't', 'l', 'y</w>'): 1, ('i', 'r', 'r', 'e', 'v', 'o', 'c', 'a', 'b', 'l', 'e</w>'): 1, ('d', 'i', 's', 'c', 'u', 's', 's', 'i', 'o', 'n</w>'): 1, ('g', 'r', 'a', 'd', 'u', 'a', 'l', 'l', 'y</w>'): 1, ('d', 'i', 'ed</w>'): 2, ('p', 'r', 'e', 'd', 'i', 'c', 't', 'ed</w>'): 1, ('p', 'r', 'i', 'c', 'e</w>'): 1, ('G', 'i', 's', 'b', 'ur', 'n', 's</w>'): 1, ('w', 'en', 't</w>'): 4, ('I', 't</w>'): 15, ('t', 'i', 'l', 'l', '</w>'): 5, ('th', 'r', 'e', 'e</w>'): 1, ('y', 'ea', 'r', 's</w>'): 3, ('l', 'a', 't', 'er</w>'): 2, ('f', 'e', 'w', '</w>'): 1, ('w', 'e', 'e', 'k', 's</w>'): 2, ('i', 'd', 'l', 'ing</w>'): 1, ('s', 'u', 'd', 'd', 'en', 'l', 'y</w>'): 2, ('o', 'c', 'c', 'ur', 'r', 'ed</w>'): 1, ('w', 'on', 'd', 'er</w>'): 3, ('w', 'h', 'y</w>'): 3, ('g', 'i', 'v', 'e', 'n</w>'): 6, ('O', 'n</w>'): 1, ('r', 'e', 'f', 'l', 'e', 'c', 't', 'i', 'o', 'n</w>'): 1, ('r', 'ea', 'l', 'l', 'y</w>'): 3, ('t', 'e', 'm', 'p', 't', 'ing</w>'): 1, ('p', 'r', 'o', 'b', 'l', 'e', 'm', '</w>'): 1, ('T', 'o</w>'): 3, ('a', 'c', 'c', 'u', 's', 'e</w>'): 1, ('w', 'i', 'f', 'e</w>'): 5, ('t', 'o', 'o</w>'): 6, ('ea', 's', 'y</w>'): 1, ('f', 'a', 'i', 'r', '</w>'): 1, ('s', 'i', 't', 't', 'er', 's</w>'): 3, ('d', 'en', 'i', 'ed</w>'): 1, ('s', 'o', 'l', 'a', 'c', 'e</w>'): 1, ('s', 'a', 'y', 'ing</w>'): 1, ('d', 'r', 'a', 'g', 'g', 'ed</w>'): 2, ('d', 'o', 'w', 'n</w>'): 9, ('F', 'or', '</w>'): 3, ('s', 'u', 'c', 'h', '</w>'): 7, ('e', 'x', 'i', 'st', 'ed</w>'): 1, ('n', 'ea', 'r', 'l', 'y</w>'): 1, ('y', 'ea', 'r', '</w>'): 1, ('a', 'f', 't', 'er</w>'): 5, ('t', 'a', 'k', 'e', 'n</w>'): 3, ('m', 'i', 'g', 'h', 't</w>'): 4, ('b', 'e</w>'): 9, ('s', 'in', 'c', 'e</w>'): 3, ('l', 'i', 'k', 'ed</w>'): 2, ('ea', 's', 'e</w>'): 1, ('b', 'e', 'c', 'a', 'u', 's', 'e</w>'): 7, ('d', 'i', 'd', 'n</w>'): 8, ('w', 'an', 't</w>'): 3, ('g', 'o</w>'): 3, ('ha', 'r', 'd</w>'): 2, ('p', 'r', 'o', 'v', 'e</w>'): 1, ('i', 'f</w>'): 10, ('s', 'he</w>'): 20, ('e', 'q', 'u', 'a', 'l', 'l', 'y</w>'): 1, ('M', 'i', 's', 's</w>'): 3, ('c', 'on', 't', 'en', 'd', 'ed</w>'): 1, ('f', 'a', 'i', 'l', 'ed</w>'): 2, ('l', 'i', 'f', 't</w>'): 2, ('l', 'ed</w>'): 1, ('b', 'a', 'c', 'k', '</w>'): 7, ('ea', 's', 'e', 'l', '</w>'): 3, ('p', 'u', 't</w>'): 7, ('b', 'r', 'u', 's', 'h', '</w>'): 2, ('in', 'to</w>'): 6, ('h', 'and</w>'): 4, ('v', 'o', 'c', 'a', 't', 'i', 'o', 'n</w>'): 1, ('f', 'or', '</w>'): 15, ('B', 'u', 't</w>'): 10, ('a', 'p', 'p', 'ea', 'r', 'ed</w>'): 1, ('d', 'i', 's', 'd', 'a', 'in', 'ed</w>'): 1, ('in', 't', 'er', 'e', 'st', 'ing</w>'): 4, ('f', 'in', 'd</w>'): 1, ('d', 'e', 's', 'u', 'l', 't', 'or', 'y</w>'): 1, ('l', 'i', 'f', 'e</w>'): 3, ('l', 'en', 'd', 's</w>'): 1, ('i', 't', 's', 'e', 'l', 'f</w>'): 1, ('p', 'ur', 'e', 'l', 'y</w>'): 1, ('a', 'c', 'a', 'd', 'e', 'm', 'i', 'c', '</w>'): 1, ('s', 'p', 'e', 'c', 'u', 'l', 'a', 't', 'i', 'on', 's</w>'): 1, ('ha', 'v', 'ing</w>'): 3, ('M', 'on', 't', 'e</w>'): 2, ('C', 'a', 'r', 'l', 'o</w>'): 2, ('c', 'a', 'u', 'g', 'h', 't</w>'): 2, ('g', 'l', 'i', 'm', 'p', 's', 'e</w>'): 1, ('b', 'a', 'l', 'u', 'st', 'r', 'a', 'd', 'ed</w>'): 1, ('t', 'er', 'r', 'a', 'c', 'e', 's</w>'): 1, ('b', 'e', 't', 'w', 'e', 'e', 'n</w>'): 6, ('p', 'in', 'e', 's</w>'): 1, ('m', 'y', 's', 'e', 'l', 'f</w>'): 4, ('b', 'or', 'n', 'e</w>'): 1, ('th', 'i', 'th', 'er</w>'): 1, ('n', 'e', 'x', 't</w>'): 2, ('d', 'a', 'y</w>'): 3, ('f', 'ou', 'n', 'd</w>'): 3, ('c', 'ou', 'p', 'l', 'e</w>'): 1, ('t', 'e', 'a</w>'): 1, ('b', 'en', 'ea', 'th', '</w>'): 3, ('th', 'e', 'i', 'r', '</w>'): 6, ('p', 'a', 'l', 'm', '-', 't', 'r', 'e', 'e', 's</w>'): 1, ('w', 'e', 'l', 'c', 'o', 'm', 'e</w>'): 1, ('g', 'en', 'i', 'a', 'l', '</w>'): 1, ('en', 's', 'u', 'ing</w>'): 1, ('c', 'l', 'a', 'i', 'm', 'ed</w>'): 1, ('f', 'r', 'e', 'q', 'u', 'en', 't', 'l', 'y</w>'): 1, ('h', 'o', 'st', 'e', 's', 's</w>'): 2, ('p', 'o', 'in', 't</w>'): 3, ('c', 'ou', 'l', 'd</w>'): 6, ('f', 'u', 'l', 'l', 'e', 's', 't</w>'): 1, ('r', 'ea', 's', 's', 'ur', 'an', 'c', 'e</w>'): 1, ('j', 'u', 's', 't</w>'): 12, ('m', 'a', 'y</w>'): 1, ('p', 'a', 'r', 'd', 'on', 'ed</w>'): 1, ('b', 'u', 'l', 'l', '</w>'): 1, ('s', 'ur', 'r', 'ou', 'n', 'd', 'ed</w>'): 1, ('f', 'o', 'st', 'er', 'ed</w>'): 1, ('a', 'r', 't</w>'): 3, ('r', 'ea', 'r', 'ed</w>'): 1, ('h', 'o', 't', '-', 'h', 'ou', 's', 'e</w>'): 1, ('a', 'd', 'u', 'l', 'a', 't', 'i', 'o', 'n</w>'): 1, ('th', 'er', 'e', 'f', 'or', 'e</w>'): 1, ('in', 'st', 'r', 'u', 'c', 't', 'i', 'v', 'e</w>'): 1, ('n', 'o', 't', 'e</w>'): 5, ('e', 'f', 'f', 'e', 'c', 't</w>'): 1, ('d', 'ea', 'd', 'en', 'ing</w>'): 1, ('a', 't', 'm', 'o', 's', 'p', 'h', 'er', 'e</w>'): 1, ('m', 'e', 'd', 'i', 'o', 'c', 'r', 'i', 't', 'y</w>'): 1, ('q', 'u', 'o', 't', 'e</w>'): 1, ('m', 'en', 't', 'i', 'on', 'ed</w>'): 1, ('i', 'm', 'm', 'e', 'd', 'i', 'a', 't', 'e', 'l', 'y</w>'): 1, ('p', 'er', 'c', 'e', 'p', 't', 'i', 'b', 'l', 'e</w>'): 1, ('h', 'u', 's', 'b', 'and</w>'): 3, ('e', 'x', 't', 'r', 'a', 'c', 't', 'ing</w>'): 1, ('f', 'r', 'o', 'm', '</w>'): 7, ('th', 'i', 's</w>'): 3, ('c', 'i', 'r', 'c', 'u', 'm', 'st', 'an', 'c', 'e</w>'): 1, ('d', 'e', 'l', 'i', 'c', 'a', 't', 'e</w>'): 3, ('s', 'u', 'b', 'st', 'an', 't', 'i', 'a', 'l', '</w>'): 1, ('s', 'a', 't', 'i', 's', 'f', 'a', 'c', 't', 'i', 'o', 'n</w>'): 2, ('r', 'u', 'l', 'e</w>'): 1, ('p', 'e', 'o', 'p', 'l', 'e</w>'): 3, ('s', 'c', 'or', 'n</w>'): 1, ('m', 'on', 'e', 'y</w>'): 1, ('g', 'e', 't</w>'): 4, ('m', 'o', 's', 't</w>'): 2, ('e', 'l', 'e', 'g', 'an', 't</w>'): 1, ('d', 'i', 's', 'd', 'a', 'i', 'n</w>'): 1, ('b', 'i', 'g', '</w>'): 1, ('b', 'a', 'l', 'an', 'c', 'e</w>'): 1, ('en', 'a', 'b', 'l', 'ed</w>'): 1, ('a', 'p', 'p', 'ea', 'r', 'an', 'c', 'e</w>'): 1, ('p', 'er', 'f', 'e', 'c', 't</w>'): 1, ('g', 'o', 'o', 'd', '-', 'b', 'r', 'e', 'e', 'd', 'ing</w>'): 1, ('t', 'r', 'an', 's', 'm', 'u', 't', 'e</w>'): 1, ('o', 'b', 'j', 'e', 'c', 't', 's</w>'): 2, ('l', 'u', 'x', 'ur', 'y</w>'): 1, ('l', 'a', 't', 't', 'er</w>'): 2, ('m', 'u', 's', 't</w>'): 3, ('a', 'd', 'd</w>'): 1, ('r', 'e', 'm', 'a', 'in', 'ed</w>'): 1, ('r', 'e', 'l', 'a', 't', 'i', 'v', 'e', 'l', 'y</w>'): 1, ('in', 'd', 'i', 'f', 'f', 'er', 'en', 't</w>'): 1, ('b', 'u', 'y', 'ing</w>'): 1, ('R', 'en', 'a', 'i', 's', 's', 'an', 'c', 'e</w>'): 1, ('b', 'r', 'on', 'z', 'e', 's</w>'): 1, ('e', 'i', 'g', 'h', 't', 'e', 'en', 'th', '-', 'c', 'en', 't', 'ur', 'y</w>'): 2, ('p', 'i', 'c', 't', 'ur', 'e', 's</w>'): 6, ('d', 'i', 's', 'c', 'r', 'i', 'm', 'in', 'a', 't', 'i', 'o', 'n</w>'): 1, ('b', 'e', 's', 'p', 'o', 'k', 'e</w>'): 1, ('a', 'm', 'p', 'l', 'e', 's', 't</w>'): 1, ('r', 'e', 's', 'ou', 'r', 'c', 'e', 's</w>'): 1, ('M', 'on', 'e', 'y</w>'): 1, ('e', 'x', 'c', 'u', 's', 'e</w>'): 1, ('b', 'ea', 'u', 't', 'y</w>'): 2, ('c', 'i', 'r', 'c', 'u', 'l', 'a', 't', 'i', 'o', 'n</w>'): 1, ('a', 'x', 'i', 'o', 'm', 's</w>'): 1, ('l', 'a', 'i', 'd</w>'): 4, ('a', 'c', 'r', 'o', 's', 's</w>'): 1, ('S', 'e', 'v', 'r', 'e', 's</w>'): 1, ('s', 'i', 'l', 'v', 'er</w>'): 1, ('e', 'x', 'q', 'u', 'i', 's', 'i', 't', 'e', 'l', 'y</w>'): 1, ('a', 'p', 'p', 'o', 'in', 't', 'ed</w>'): 1, ('l', 'u', 'n', 'c', 'h', 'e', 'on', '-', 't', 'a', 'b', 'l', 'e</w>'): 1, ('w', 'h', 'e', 'n</w>'): 10, ('r', 'u', 'n</w>'): 1, ('o', 'v', 'er</w>'): 3, ('b', 'ea', 'm', 'ing</w>'): 1, ('a', 'd', 'd', 'ed</w>'): 2, ('en', 'l', 'i', 'g', 'h', 't', 'en', 'm', 'en', 't</w>'): 1, ('m', 'or', 'b', 'i', 'd', 'l', 'y</w>'): 1, ('s', 'en', 's', 'i', 't', 'i', 'v', 'e</w>'): 1, ('e', 'v', 'er', 'y</w>'): 3, ('f', 'or', 'm', '</w>'): 1, ('f', 'a', 't', 'e</w>'): 1, ('th', 'ing', 's</w>'): 3, ('s', 'e', 't</w>'): 2, ('e', 'x', 't', 'en', 'u', 'a', 't', 'i', 'o', 'n</w>'): 1, ('W', 'ha', 't</w>'): 2, ('st', 'r', 'u', 'c', 'k', '</w>'): 2, ('n', 'o', 'w', '</w>'): 6, ('f', 'i', 'r', 's', 't</w>'): 6, ('t', 'i', 'm', 'e</w>'): 3, ('r', 'e', 's', 'en', 't', 'ed</w>'): 1, ('t', 'on', 'e</w>'): 2, ('s', 'e', 'e', 'n</w>'): 2, ('o', 'f', 't', 'e', 'n</w>'): 1, ('b', 'a', 's', 'k', 'ing</w>'): 1, ('u', 'n', 'd', 'er</w>'): 5, ('s', 'i', 'm', 'i', 'l', 'a', 'r', '</w>'): 1, ('t', 'r', 'i', 'b', 'u', 't', 'e', 's</w>'): 1, ('c', 'on', 'j', 'u', 'g', 'a', 'l', '</w>'): 1, ('r', 'o', 'b', 'b', 'ed</w>'): 1, ('th', 'e', 'm', '</w>'): 4, ('s', 'a', 'v', 'ou', 'r', '</w>'): 1, ('N', 'o</w>'): 1, ('o', 'd', 'd', 'l', 'y</w>'): 1, ('b', 'e', 'c', 'a', 'm', 'e</w>'): 2, ('a', 'p', 'p', 'a', 'r', 'en', 't</w>'): 1, ('f', 'on', 'd</w>'): 2, ('s', 'e', 'e</w>'): 12, ('a', 'b', 's', 'ur', 'd', 'i', 't', 'y</w>'): 2, ('s', 'e', 'e', 'm', 'ed</w>'): 3, ('w', 'in', 'c', 'ing</w>'): 2, ('a', 't', 't', 'i', 't', 'u', 'd', 'e</w>'): 1, ('o', 'b', 'j', 'e', 'c', 't</w>'): 2, ('g', 'a', 'r', 'l', 'an', 'd', 's</w>'): 1, ('in', 'c', 'en', 's', 'e</w>'): 1, ('M', 'y</w>'): 3, ('d', 'ea', 'r', '</w>'): 4, ('v', 'e</w>'): 2, ('c', 'h', 'u', 'c', 'k', 'ed</w>'): 3, ('st', 'u', 'f', 'f</w>'): 1, ('a', 'b', 'ou', 't</w>'): 11, ('V', 'i', 'c', 't', 'or', '</w>'): 2, ('G', 'r', 'in', 'd', 'l', 'e</w>'): 5, ('p', 'r', 'o', 't', 'e', 's', 't</w>'): 1, ('r', 'o', 's', 'e</w>'): 3, ('t', 'a', 'b', 'l', 'e</w>'): 1, ('st', 'r', 'o', 'l', 'l', 'ed</w>'): 1, ('on', 'to</w>'): 1, ('s', 'u', 'n', 'l', 'i', 't</w>'): 1, ('t', 'er', 'r', 'a', 'c', 'e</w>'): 2, ('g', 'l', 'an', 'c', 'ed</w>'): 3, ('b', 'e', 'c', 'o', 'm', 'ing</w>'): 1, ('m', 'a', 'n</w>'): 4, ('m', 'o', 'm', 'en', 't</w>'): 2, ('h', 'ou', 'r', '</w>'): 1, ('y', 'ou', 'n', 'g', 'er</w>'): 1, ('a', 'r', 't', 'i', 's', 't</w>'): 1, ('s', 'a', 'i', 'd</w>'): 14, ('f', 'or', 'm', 'ed</w>'): 1, ('f', 'r', 'i', 'en', 'd</w>'): 1, ('f', 'e', 'e', 't</w>'): 1, ('w', 'on', 'd', 'er', 'ed</w>'): 1, ('t', 'ing', 'e</w>'): 1, ('u', 'n', 'd', 'er', 'l', 'a', 'y</w>'): 1, ('m', 'y', 'st', 'er', 'i', 'ou', 's</w>'): 1, ('e', 'v', 'en', 't</w>'): 1, ('D', 'u', 'b', 'a', 'r', 'r', 'y</w>'): 2, ('d', 'r', 'a', 'w', 'ing', '-', 'r', 'o', 'o', 'm', 's</w>'): 2, ('b', 'e', 'g', 'u', 'n</w>'): 1, ('d', 'i', 's', 'p', 'l', 'a', 'y</w>'): 2, ('G', 'r', 'in', 'd', 'l', 'e', 's</w>'): 1, ('t', 'ur', 'n', 'ed</w>'): 5, ('l', 'ing', 'er', 'ed</w>'): 1, ('g', 'i', 'v', 'e</w>'): 2, ('l', 'u', 'm', 'p', '</w>'): 1, ('s', 'u', 'g', 'a', 'r', '</w>'): 1, ('s', 'p', 'an', 'i', 'e', 'l', '</w>'): 1, ('d', 'in', 'ing', '-', 'r', 'o', 'o', 'm', '</w>'): 1, ('W', 'h', 'y</w>'): 2, ('ha', 's</w>'): 1, ('a', 's', 'k', 'ed</w>'): 2, ('a', 'b', 'r', 'u', 'p', 't', 'l', 'y</w>'): 1, ('S', 'he</w>'): 9, ('r', 'a', 'i', 's', 'ed</w>'): 1, ('e', 'y', 'e', 'b', 'r', 'o', 'w', 's</w>'): 1, ('h', 'in', 't</w>'): 1, ('g', 'o', 'o', 'd', '-', 'h', 'u', 'm', 'ou', 'r', 'ed</w>'): 2, ('O', 'h', '</w>'): 5, ('d', 'o', 'e', 's', 'n</w>'): 2, ('y', 'ou', '</w>'): 25, ('k', 'n', 'o', 'w', '</w>'): 9, ('en', 'j', 'o', 'y</w>'): 1, ('q', 'u', 'i', 't', 'e</w>'): 2, ('s', 'i', 'm', 'p', 'l', 'y</w>'): 2, ('l', 'o', 'o', 'k', 'ed</w>'): 5, ('s', 'p', 'a', 'c', 'i', 'ou', 's</w>'): 1, ('w', 'hi', 't', 'e', '-', 'p', 'an', 'e', 'l', 'l', 'ed</w>'): 1, ('r', 'o', 'o', 'm', '</w>'): 4, ('f', 'a', 'm', 'i', 'l', 'l', 'e', '-', 'v', 'er', 't', 'e</w>'): 1, ('v', 'a', 's', 'e', 's</w>'): 1, ('r', 'e', 'p', 'ea', 't', 'ing</w>'): 1, ('t', 'on', 'e', 's</w>'): 1, ('p', 'a', 'l', 'e</w>'): 2, ('d', 'a', 'm', 'a', 's', 'k', '</w>'): 1, ('c', 'ur', 't', 'a', 'in', 's</w>'): 2, ('p', 'a', 'st', 'e', 'l', 's</w>'): 1, ('f', 'a', 'd', 'ed</w>'): 1, ('f', 'r', 'a', 'm', 'e', 's</w>'): 1, ('H', 'a', 's</w>'): 1, ('ha', 'v', 'e', 'n</w>'): 1, ('s', 'ing', 'l', 'e</w>'): 1, ('h', 'ou', 's', 'e</w>'): 4, ('A', '</w>'): 2, ('s', 'l', 'i', 'g', 'h', 't</w>'): 1, ('s', 'ha', 'd', 'e</w>'): 1, ('c', 'on', 'st', 'r', 'a', 'in', 't</w>'): 1, ('c', 'r', 'o', 's', 's', 'ed</w>'): 1, ('o', 'p', 'e', 'n</w>'): 1, ('c', 'ou', 'n', 't', 'en', 'an', 'c', 'e</w>'): 1, ('r', 'i', 'd', 'i', 'c', 'u', 'l', 'ou', 's</w>'): 2, ('m', 'o', 'd', 'e', 'st', 'y</w>'): 3, ('H', 'e</w>'): 15, ('s', 'a', 'y', 's</w>'): 2, ('r', 'e</w>'): 2, ('f', 'i', 't</w>'): 1, ('s', 'en', 't</w>'): 4, ('a', 'wa', 'y</w>'): 3, ('e', 'x', 'c', 'e', 'p', 't</w>'): 1, ('p', 'or', 't', 'r', 'a', 'i', 't</w>'): 5, ('k', 'e', 'e', 'p', '</w>'): 1, ('u', 'p', 'st', 'a', 'i', 'r', 's</w>'): 1, ('H', 'i', 's</w>'): 4, ('c', 'ur', 'i', 'o', 's', 'i', 't', 'y</w>'): 2, ('g', 'r', 'o', 'w', 'ing</w>'): 1, ('b', 'e', 'an', '-', 'st', 'a', 'l', 'k', '</w>'): 1, ('p', 'er', 's', 'u', 'a', 's', 'i', 'v', 'e', 'l', 'y</w>'): 1, ('y', 'ou', 'r', '</w>'): 3, ('a', 'l', 'm', 'o', 's', 't</w>'): 1, ('t', 'i', 'm', 'or', 'ou', 's', 'l', 'y</w>'): 1, ('w', 'h', 'er', 'e</w>'): 4, ('l', 'ou', 'n', 'g', 'ing</w>'): 1, ('h', 'o', 'o', 'd', 'ed</w>'): 1, ('c', 'ha', 'i', 'r', '</w>'): 1, ('l', 'i', 't</w>'): 1, ('c', 'i', 'g', 'a', 'r', '</w>'): 1, ('d', 'r', 'a', 'w', 'n</w>'): 1, ('R', 'u', 's', 's', 'i', 'a', 'n</w>'): 1, ('d', 'e', 'er', 'h', 'ou', 'n', 'd</w>'): 1, ('h', 'ea', 'd</w>'): 4, ('k', 'n', 'e', 'e', 's</w>'): 1, ('c', 'o', 'm', 'e</w>'): 2, ('w', 'hi', 'l', 'e</w>'): 1, ('l', 'o', 'o', 'k', 'ing</w>'): 4, ('l', 'a', 'u', 'g', 'h', '</w>'): 3, ('t', 'r', 'i', 'ed</w>'): 2, ('hi', 'd', 'e</w>'): 1, ('n', 'er', 'v', 'ou', 's', 'n', 'e', 's', 's</w>'): 1, ('f', 'o', 'l', 'l', 'o', 'w', 'ed</w>'): 2, ('m', 'a', 'r', 'b', 'l', 'e</w>'): 1, ('E', 'm', 'p', 'er', 'or', 's</w>'): 1, ('ha', 'l', 'l', '</w>'): 1, ('w', 'i', 'd', 'e</w>'): 1, ('st', 'a', 'i', 'r', 's</w>'): 1, ('t', 'er', 'r', 'a', '-', 'c', 'o', 't', 't', 'a</w>'): 1, ('n', 'y', 'm', 'p', 'h', 's</w>'): 1, ('p', 'o', 'i', 's', 'ed</w>'): 1, ('a', 'm', 'on', 'g', '</w>'): 2, ('f', 'l', 'o', 'w', 'er', 's</w>'): 1, ('ea', 'c', 'h', '</w>'): 1, ('l', 'an', 'd', 'ing</w>'): 1, ('I', 'n</w>'): 1, ('d', 'i', 'm', 'm', 'e', 's', 't</w>'): 1, ('c', 'or', 'n', 'er</w>'): 1, ('b', 'ou', 'd', 'o', 'i', 'r', '</w>'): 1, ('a', 'm', 'i', 'd</w>'): 1, ('p', 'r', 'o', 'f', 'u', 's', 'i', 'o', 'n</w>'): 1, ('d', 'i', 'st', 'ing', 'u', 'i', 's', 'h', 'ed</w>'): 1, ('h', 'u', 'n', 'g', '</w>'): 2, ('f', 'a', 'm', 'i', 'l', 'i', 'a', 'r', '</w>'): 1, ('o', 'v', 'a', 'l', '</w>'): 1, ('c', 'an', 'v', 'a', 's', 'e', 's</w>'): 1, ('in', 'e', 'v', 'i', 't', 'a', 'b', 'l', 'e</w>'): 1, ('g', 'a', 'r', 'l', 'an', 'd', 'ed</w>'): 1, ('f', 'r', 'a', 'm', 'e</w>'): 2, ('m', 'er', 'e</w>'): 1, ('ou', 't', 'l', 'in', 'e</w>'): 1, ('p', 'a', 's', 't</w>'): 2, ('d', 'r', 'e', 'w', '</w>'): 1, ('w', 'in', 'd', 'o', 'w', '-', 'c', 'ur', 't', 'a', 'in', 's</w>'): 1, ('m', 'o', 'v', 'ed</w>'): 4, ('a', 's', 'i', 'd', 'e</w>'): 1, ('j', 'a', 'r', 'd', 'in', 'i', 'er', 'e</w>'): 1, ('f', 'u', 'l', 'l', '</w>'): 1, ('p', 'in', 'k', '</w>'): 1, ('a', 'z', 'a', 'l', 'ea', 's</w>'): 1, ('p', 'u', 's', 'h', 'ed</w>'): 3, ('a', 'r', 'm', '-', 'c', 'ha', 'i', 'r', '</w>'): 2, ('st', 'and</w>'): 2, ('h', 'er', 'e</w>'): 3, ('m', 'an', 'a', 'g', 'e</w>'): 3, ('m', 'an', 't', 'e', 'l', '-', 'p', 'i', 'e', 'c', 'e</w>'): 2, ('w', 'ou', 'l', 'd', 'n</w>'): 3, ('l', 'e', 't</w>'): 4, ('st', 'a', 'y</w>'): 2, ('Y', 'e', 's</w>'): 5, ('e', 'v', 'er</w>'): 5, ('st', 'r', 'a', 'i', 'n</w>'): 1, ('U', 's', 'u', 'a', 'l', 'l', 'y</w>'): 1, ('p', 'l', 'a', 'c', 'e</w>'): 2, ('c', 'en', 't', 'r', 'a', 'l', '</w>'): 1, ('p', 'an', 'e', 'l', '</w>'): 1, ('y', 'e', 'l', 'l', 'o', 'w', '</w>'): 1, ('d', 'r', 'a', 'w', 'ing', '-', 'r', 'o', 'o', 'm', '</w>'): 1, ('m', 'on', 'u', 'm', 'en', 't', 'a', 'l', '</w>'): 1, ('p', 'l', 'a', 'c', 'ed</w>'): 2, ('t', 'o', 'o', 'k', '</w>'): 1, ('l', 'i', 'g', 'h', 't</w>'): 2, ('o', 'l', 'd</w>'): 3, ('V', 'en', 'e', 't', 'i', 'a', 'n</w>'): 1, ('m', 'or', 'e</w>'): 5, ('m', 'o', 'd', 'e', 's', 't</w>'): 1, ('b', 'e', 't', 't', 'er</w>'): 2, ('y', 'e', 't</w>'): 2, ('g', 'r', 'e', 'w', '</w>'): 2, ('a', 'c', 'c', 'u', 'st', 'o', 'm', 'ed</w>'): 1, ('ha', 'l', 'f', '-', 'l', 'i', 'g', 'h', 't</w>'): 1, ('c', 'ha', 'r', 'a', 'c', 't', 'er', 'i', 'st', 'i', 'c', '</w>'): 1, ('q', 'u', 'a', 'l', 'i', 't', 'i', 'e', 's</w>'): 1, ('c', 'a', 'm', 'e</w>'): 1, ('h', 'e', 's', 'i', 't', 'a', 't', 'i', 'on', 's</w>'): 1, ('d', 'i', 's', 'g', 'u', 'i', 's', 'ed</w>'): 1, ('a', 'u', 'd', 'a', 'c', 'i', 't', 'i', 'e', 's</w>'): 1, ('t', 'r', 'i', 'c', 'k', 's</w>'): 2, ('p', 'r', 'e', 'st', 'i', 'd', 'i', 'g', 'i', 't', 'a', 't', 'i', 'o', 'n</w>'): 1, ('w', 'hi', 'c', 'h', '</w>'): 2, ('c', 'on', 's', 'u', 'm', 'm', 'a', 't', 'e</w>'): 1, ('s', 'k', 'i', 'l', 'l', '</w>'): 1, ('m', 'an', 'a', 'g', 'ed</w>'): 1, ('d', 'i', 'v', 'er', 't</w>'): 1, ('a', 't', 't', 'en', 't', 'i', 'o', 'n</w>'): 2, ('r', 'ea', 'l', '</w>'): 1, ('b', 'u', 's', 'in', 'e', 's', 's</w>'): 1, ('s', 'o', 'm', 'e</w>'): 4, ('p', 'r', 'e', 't', 't', 'y</w>'): 1, ('i', 'r', 'r', 'e', 'l', 'e', 'v', 'an', 'c', 'e</w>'): 1, ('d', 'e', 't', 'a', 'i', 'l', '</w>'): 1, ('p', 'r', 'e', 's', 'en', 't', 'ing</w>'): 1, ('n', 'e', 'u', 't', 'r', 'a', 'l', '</w>'): 1, ('s', 'ur', 'f', 'a', 'c', 'e</w>'): 1, ('w', 'or', 'k', '</w>'): 6, ('f', 'or', 'm', 'ing</w>'): 1, ('in', 'e', 'v', 'i', 't', 'a', 'b', 'l', 'y</w>'): 1, ('b', 'a', 'c', 'k', 'g', 'r', 'ou', 'n', 'd</w>'): 1, ('l', 'en', 't</w>'): 1, ('h', 'er', 's', 'e', 'l', 'f</w>'): 3, ('u', 'n', 'u', 's', 'u', 'a', 'l', '</w>'): 1, ('d', 'e', 'g', 'r', 'e', 'e</w>'): 2, ('f', 'a', 'l', 's', 'e</w>'): 1, ('v', 'i', 'r', 't', 'u', 'o', 's', 'i', 't', 'y</w>'): 1, ('st', 'r', 'on', 'g', 'e', 's', 't</w>'): 1, ('a', 'd', 'm', 'i', 'r', 'er', 's</w>'): 1, ('r', 'e', 'p', 'r', 'e', 's', 'en', 't', 'ed</w>'): 1, ('p', 'a', 'r', 't</w>'): 1, ('s', 'w', 'e', 'l', 'l', 'ing</w>'): 1, ('m', 'u', 's', 'c', 'l', 'e', 's</w>'): 1, ('c', 'on', 'g', 'e', 'st', 'ing</w>'): 1, ('v', 'e', 'in', 's</w>'): 1, ('b', 'a', 'l', 'an', 'c', 'ing</w>'): 1, ('st', 'r', 'a', 'd', 'd', 'l', 'ing</w>'): 1, ('st', 'r', 'a', 'in', 'ing</w>'): 1, ('r', 'e', 'm', 'in', 'd', 'ed</w>'): 1, ('c', 'i', 'r', 'c', 'u', 's', '-', 'c', 'l', 'o', 'w', 'n</w>'): 1, ('i', 'r', 'on', 'i', 'c', '</w>'): 1, ('e', 'f', 'f', 'or', 't', 's</w>'): 1, ('f', 'ea', 'th', 'er</w>'): 1, ('m', 'e', 't</w>'): 2, ('s', 'h', 'or', 't</w>'): 1, ('d', 'e', 'm', 'and</w>'): 1, ('l', 'o', 'v', 'e', 'l', 'y</w>'): 1, ('w', 'o', 'm', 'a', 'n</w>'): 2, ('p', 'a', 'in', 't', 'ed</w>'): 6, ('st', 'r', 'on', 'g', 'l', 'y</w>'): 1, ('t', 'i', 'r', 'ed</w>'): 2, ('s', 'w', 'e', 'e', 't', 'l', 'y</w>'): 1, ('l', 'o', 's', 'e</w>'): 1, ('a', 't', 'o', 'm', '</w>'): 1, ('s', 'w', 'e', 'e', 't', 'n', 'e', 's', 's</w>'): 1, ('p', 'a', 'r', 'd', 'on', 'a', 'b', 'l', 'e</w>'): 1, ('p', 'r', 'i', 'd', 'e</w>'): 2, ('c', 'or', 'r', 'e', 'c', 't', 'ed</w>'): 1, ('o', 'th', 'er</w>'): 2, ('c', 'ou', 'n', 't</w>'): 1, ('d', 'e', 'st', 'r', 'o', 'y', 'ed</w>'): 1, ('D', 'e', 'st', 'r', 'o', 'y', 'ed</w>'): 1, ('f', 'o', 'l', 'l', 'o', 'w', '</w>'): 1, ('c', 'l', 'u', 'e</w>'): 1, ('f', 'o', 'o', 't', 'st', 'e', 'p', '</w>'): 1, ('s', 'a', 'w', '</w>'): 5, ('th', 'r', 'e', 's', 'h', 'o', 'l', 'd</w>'): 1, ('A', 's</w>'): 1, ('st', 'o', 'o', 'd</w>'): 3, ('th', 'er', 'e</w>'): 7, ('h', 'an', 'd', 's</w>'): 1, ('p', 'o', 'c', 'k', 'e', 't', 's</w>'): 1, ('v', 'e', 'l', 'v', 'e', 't', 'e', 'e', 'n</w>'): 1, ('c', 'o', 'at</w>'): 1, ('th', 'i', 'n</w>'): 1, ('b', 'r', 'o', 'w', 'n</w>'): 2, ('wa', 'v', 'e', 's</w>'): 1, ('ha', 'i', 'r', '</w>'): 1, ('w', 'hi', 't', 'e</w>'): 1, ('f', 'or', 'e', 'h', 'ea', 'd</w>'): 1, ('l', 'ea', 'n</w>'): 1, ('s', 'u', 'n', 'b', 'ur', 'n', 't</w>'): 1, ('c', 'h', 'e', 'e', 'k', 's</w>'): 2, ('f', 'ur', 'r', 'o', 'w', 'ed</w>'): 1, ('s', 'm', 'i', 'l', 'e</w>'): 3, ('l', 'i', 'f', 't', 'ed</w>'): 1, ('t', 'i', 'p', 's</w>'): 1, ('s', 'e', 'l', 'f', '-', 'c', 'on', 'f', 'i', 'd', 'en', 't</w>'): 1, ('m', 'ou', 'st', 'a', 'c', 'he</w>'): 1, ('s', 'a', 'm', 'e</w>'): 1, ('q', 'u', 'a', 'l', 'i', 't', 'y</w>'): 2, ('c', 'l', 'e', 'v', 'er', 'er</w>'): 1, ('th', 'a', 'n</w>'): 2, ('d', 'e', 'p', 'r', 'e', 'c', 'a', 't', 'ing', 'l', 'y</w>'): 1, ('t', 'r', 'a', 'v', 'e', 'l', 'l', 'ed</w>'): 1, ('w', 'an', 't', 'ed</w>'): 2, ('b', 'e', 'g', 'a', 'n</w>'): 4, ('e', 'x', 'c', 'u', 's', 'ing</w>'): 1, ('s', 'h', 'r', 'u', 'g', 'g', 'ed</w>'): 1, ('s', 'h', 'ou', 'l', 'd', 'er', 's</w>'): 1, ('st', 'i', 'l', 'l', '</w>'): 4, ('s', 'm', 'i', 'l', 'ing</w>'): 1, ('l', 'on', 'g', '</w>'): 1, ('a', 'g', 'o</w>'): 1, ('l', 'i', 'g', 'h', 't', 'l', 'y</w>'): 1, ('th', 'e', 'n</w>'): 3, ('p', 'a', 's', 's', 'ing</w>'): 1, ('a', 'r', 'm', '</w>'): 1, ('m', 'in', 'e</w>'): 3, ('C', 'o', 'm', 'e</w>'): 1, ('r', 'e', 's', 't</w>'): 2, ('s', 'h', 'o', 'w', 'ed</w>'): 1, ('k', 'in', 'd</w>'): 3, ('n', 'a', 'i', 'v', 'e</w>'): 1, ('s', 'u', 'b', 'ur', 'b', 'a', 'n</w>'): 1, ('b', 'a', 'th', '-', 'r', 'o', 'o', 'm', 's</w>'): 1, ('s', 'p', 'ea', 'k', 'ing', '-', 't', 'u', 'b', 'e', 's</w>'): 1, ('d', 'r', 'e', 's', 's', '-', 'c', 'l', 'o', 's', 'e', 't', 's</w>'): 1, ('t', 'r', 'ou', 's', 'er', '-', 'p', 'r', 'e', 's', 's', 'e', 's</w>'): 1, ('c', 'o', 'm', 'p', 'l', 'e', 'x', '</w>'): 1, ('s', 'i', 'm', 'p', 'l', 'i', 'f', 'i', 'c', 'a', 't', 'i', 'on', 's</w>'): 1, ('m', 'i', 'l', 'l', 'i', 'on', 'a', 'i', 'r', 'e</w>'): 1, ('d', 'o', 'm', 'e', 'st', 'i', 'c', '</w>'): 1, ('e', 'c', 'on', 'o', 'm', 'y</w>'): 1, ('w', 'h', 'en', 'e', 'v', 'er</w>'): 1, ('p', 'a', 'i', 'd</w>'): 1, ('e', 'x', 'p', 'e', 'c', 't', 'ed</w>'): 1, ('t', 'r', 'i', 'b', 'u', 't', 'e</w>'): 1, ('th', 'r', 'o', 'w', 'ing</w>'): 1, ('c', 'h', 'e', 's', 't</w>'): 1, ('h', 'o', 'w', '</w>'): 6, ('l', 'i', 'v', 'e</w>'): 1, ('w', 'i', 'th', 'ou', 't</w>'): 3, ('en', 'd</w>'): 4, ('f', 'or', 'e', 's', 'e', 'e', 'n</w>'): 1, ('O', 'n', 'l', 'y</w>'): 3, ('s', 'p', 'i', 't', 'e</w>'): 2, ('c', 'ha', 'r', 'm', 'ing</w>'): 1, ('d', 'i', 's', 'a', 'r', 'm', 'ing</w>'): 1, ('l', 'on', 'g', 'ed</w>'): 2, ('c', 'r', 'y</w>'): 2, ('B', 'e</w>'): 2, ('d', 'i', 's', 's', 'a', 't', 'i', 's', 'f', 'i', 'ed</w>'): 2, ('l', 'e', 'i', 's', 'ur', 'e</w>'): 1, ('on', 'c', 'e</w>'): 3, ('d', 'i', 'a', 'g', 'n', 'o', 's', 'i', 's</w>'): 1, ('s', 'u', 'f', 'f', 'er', 'ed</w>'): 1, ('u', 'n', 'e', 'x', 'p', 'e', 'c', 't', 'ed</w>'): 2, ('c', 'h', 'e', 'c', 'k', '</w>'): 1, ('T', 'hi', 's</w>'): 1, ('l', 'a', 'i', 'r', '</w>'): 1, ('l', 'ea', 'd', 'ing</w>'): 1, ('d', 'a', 'r', 'k', '</w>'): 1, ('p', 'l', 'a', 'i', 'n</w>'): 3, ('f', 'l', 'or', 'i', 'd</w>'): 1, ('s', 'q', 'u', 'a', 'r', 'e</w>'): 1, ('l', 'ea', 'th', 'er', 'y</w>'): 1, ('e', 'f', 'f', 'e', 'c', 't', 's</w>'): 1, ('b', 'r', 'i', 'c', '-', 'a', '-', 'b', 'r', 'a', 'c', '</w>'): 1, ('n', 'on', 'e</w>'): 1, ('a', 'i', 'r', '</w>'): 1, ('p', 'o', 's', 'ing</w>'): 2, ('r', 'e', 'p', 'r', 'o', 'd', 'u', 'c', 't', 'i', 'o', 'n</w>'): 1, ('w', 'e', 'e', 'k', 'l', 'y</w>'): 1, ('a', 'b', 'o', 'v', 'e</w>'): 4, ('l', 'ea', 's', 't</w>'): 1, ('s', 'i', 'g', 'n</w>'): 1, ('u', 's', 'ed</w>'): 1, ('st', 'u', 'd', 'i', 'o</w>'): 1, ('h', 'o', 'm', 'e</w>'): 1, ('a', 'b', 's', 'o', 'l', 'u', 't', 'e</w>'): 1, ('f', 'in', 'a', 'l', 'i', 't', 'y</w>'): 1, ('b', 'r', 'ea', 'k', '</w>'): 1, ('D', 'o', 'n</w>'): 2, ('d', 'a', 'b', 'b', 'l', 'e</w>'): 2, ('p', 'a', 'in', 't</w>'): 6, ('an', 'y</w>'): 4, ('t', 'r', 'a', 'c', 'e</w>'): 1, ('a', 'c', 't', 'i', 'v', 'i', 't', 'y</w>'): 1, ('N', 'e', 'v', 'er</w>'): 2, ('b', 'r', 'i', 'e', 'f', 'l', 'y</w>'): 1, ('O', 'r', '</w>'): 1, ('wa', 't', 'er', '-', 'c', 'o', 'l', 'ou', 'r', '</w>'): 1, ('e', 't', 'c', 'h', 'ing</w>'): 1, ('c', 'on', 'f', 'i', 'd', 'en', 't</w>'): 1, ('d', 'i', 'm', '</w>'): 1, ('p', 'a', 'l', 'ed</w>'): 1, ('s', 'u', 'n', 'b', 'ur', 'n</w>'): 1, ('d</w>',): 5, ('n', 'e', 'v', 'er</w>'): 4, ('t', 'ou', 'c', 'h', 'ed</w>'): 1, ('t', 'o', 'l', 'd</w>'): 6, ('f', 'l', 'a', 's', 'h', '</w>'): 1, ('an', 'y', 'th', 'ing</w>'): 2, ('e', 'l', 's', 'e</w>'): 2, ('in', 'st', 'in', 'c', 't', 'i', 'v', 'e', 'l', 'y</w>'): 2, ('e', 'm', 'b', 'a', 'r', 'r', 'a', 's', 's', 'ed</w>'): 1, ('d', 'i', 's', 'c', 'o', 'v', 'er', 'y</w>'): 1, ('e', 'y', 'e</w>'): 1, ('f', 'e', 'l', 'l', '</w>'): 1, ('s', 'm', 'a', 'l', 'l', '</w>'): 1, ('b', 'r', 'ea', 'k', 'ing</w>'): 1, ('o', 'a', 'k', '</w>'): 1, ('p', 'an', 'e', 'l', 'l', 'ing</w>'): 1, ('J', 'o', 'v', 'e</w>'): 3, ('s', 'k', 'e', 't', 'c', 'h', '</w>'): 4, ('d', 'on', 'k', 'e', 'y</w>'): 6, ('st', 'an', 'd', 'ing</w>'): 1, ('r', 'a', 'i', 'n</w>'): 1, ('wa', 'l', 'l', '</w>'): 2, ('B', 'y</w>'): 2, ('S', 't', 'r', 'ou', 'd</w>'): 17, ('c', 'r', 'i', 'ed</w>'): 1, ('s', 'i', 'l', 'en', 't</w>'): 1, ('c', 'l', 'o', 's', 'e</w>'): 2, ('b', 'e', 'h', 'in', 'd</w>'): 4, ('b', 'r', 'ea', 'th', 'ing</w>'): 1, ('q', 'u', 'i', 'c', 'k', 'l', 'y</w>'): 1, ('M', 'a', 'd', 'e</w>'): 1, ('d', 'o', 'z', 'e', 'n</w>'): 1, ('l', 'in', 'e', 's</w>'): 1, ('e', 'v', 'er', 'l', 'a', 'st', 'ing</w>'): 2, ('f', 'ou', 'n', 'd', 'a', 't', 'i', 'on', 's</w>'): 3, ('Y', 'ou', '</w>'): 3, ('l', 'u', 'c', 'k', 'y</w>'): 1, ('c', 'ha', 'p', '</w>'): 1, ('d', 'i', 'd</w>'): 3, ('an', 's', 'w', 'er', 'ed</w>'): 2, ('s', 'l', 'o', 'w', 'l', 'y</w>'): 1, ('g', 'a', 'v', 'e</w>'): 1, ('A', 'h', '</w>'): 2, ('k', 'n', 'e', 'w', '</w>'): 7, ('S', 't', 'r', 'ou', 'd', 's</w>'): 2, ('in', 'f', 'l', 'e', 'x', 'i', 'b', 'l', 'e</w>'): 1, ('h', 'er', 'm', 'i', 't</w>'): 1, ('d', 'ea', 'd</w>'): 5, ('W', 'h', 'e', 'n</w>'): 4, ('m', 'u', 'c', 'h', '</w>'): 2, ('a', 'm', 'a', 'z', 'e', 'm', 'en', 't</w>'): 1, ('e', 's', 'c', 'a', 'p', 'e</w>'): 1, ('d', 'e', 'p', 'r', 'e', 'c', 'a', 't', 'ing</w>'): 2, ('a', 'w', 'f', 'u', 'l', '</w>'): 1, ('s', 'i', 'm', 'p', 'l', 'e', 't', 'o', 'n</w>'): 1, ('H', 'er</w>'): 1, ('i', 'd', 'e', 'a</w>'): 2, ('d', 'on', 'e</w>'): 5, ('f', 'a', 's', 'hi', 'on', 'a', 'b', 'l', 'e</w>'): 2, ('p', 'a', 'in', 't', 'er</w>'): 2, ('a', 'h', '</w>'): 1, ('p', 'o', 'or', '</w>'): 4, ('s', 'ur', 'e', 's', 't</w>'): 1, ('p', 'r', 'o', 'c', 'l', 'a', 'i', 'm', 'ing</w>'): 1, ('g', 'r', 'ea', 't', 'n', 'e', 's', 's</w>'): 1, ('f', 'or', 'c', 'ing</w>'): 1, ('p', 'ur', 'b', 'l', 'in', 'd</w>'): 1, ('p', 'u', 'b', 'l', 'i', 'c', '</w>'): 2, ('W', 'a', 's</w>'): 1, ('hi', 'st', 'or', 'y</w>'): 3, ('T', 'ha', 't</w>'): 3, ('b', 'e', 'l', 'i', 'e', 'v', 'ed</w>'): 2, ('g', 'l', 'or', 'i', 'ed</w>'): 1, ('c', 'ou', 'l', 'd', 'n</w>'): 8, ('b', 'ea', 'r', '</w>'): 2, ('v', 'a', 'r', 'n', 'i', 's', 'h', 'ing</w>'): 1, ('d', 'a', 'y', 's</w>'): 2, ('n', 'ea', 'r', '</w>'): 4, ('f', 'r', 'a', 'g', 'm', 'en', 't</w>'): 1, ('g', 'r', 'o', 'p', 'ing</w>'): 2, ('f', 'r', 'a', 'g', 'm', 'en', 't', 's</w>'): 1, ('w', 'h', 'o', 'l', 'e</w>'): 2, ('c', 'ur', 'i', 'ou', 's</w>'): 1, ('ha', 'p', 'p', 'en', 'ed</w>'): 3, ('v', 'o', 'i', 'c', 'e</w>'): 1, ('in', 's', 'en', 's', 'i', 'b', 'l', 'e</w>'): 1, ('i', 'r', 'on', 'y</w>'): 2, ('l', 'a', 'u', 'g', 'h', 'ed</w>'): 2, ('th', 'r', 'e', 'w', '</w>'): 2, ('T', 'h', 'er', 'e</w>'): 3, ('th', 'ing</w>'): 6, ('f', 'or', 'c', 'ed</w>'): 1, ('c', 'ur', 'ed</w>'): 2, ('r', 'ea', 's', 'o', 'n</w>'): 2, ('i', 'd', 'l', 'e</w>'): 1, ('c', 'o', 'm', 'p', 'an', 'i', 'o', 'n</w>'): 1, ('s', 'er', 'i', 'ou', 's</w>'): 1, ('d', 'e', 's', 'i', 'r', 'e</w>'): 1, ('u', 'n', 'd', 'er', 'st', 'and</w>'): 2, ('w', 'i', 's', 'h', '</w>'): 1, ('t', 'e', 'l', 'l', '</w>'): 4, ('t', 'w', 'i', 'r', 'l', 'ing</w>'): 1, ('f', 'ing', 'er', 's</w>'): 1, ('c', 'i', 'g', 'a', 'r', 'e', 't', 't', 'e</w>'): 1, ('f', 'or', 'g', 'o', 't', 't', 'e', 'n</w>'): 1, ('S', 'u', 'd', 'd', 'en', 'l', 'y</w>'): 1, ('t', 'o', 'wa', 'r', 'd</w>'): 1, ('s', 'u', 's', 'p', 'e', 'c', 't', 'ed</w>'): 1, ('l', 'o', 'a', 'th', 'ing</w>'): 1, ('g', 'e', 'st', 'ur', 'e</w>'): 1, ('n', 'e', 'g', 'a', 't', 'i', 'v', 'ed</w>'): 1, ('s', 'h', 'r', 'u', 'g', '</w>'): 1, ('c', 'a', 'r', 'e</w>'): 1, ('st', 'r', 'a', 'w', '</w>'): 1, ('t', 'i', 'e</w>'): 1, ('u', 's</w>'): 2, ('s', 'l', 'i', 'g', 'h', 't', 'l', 'y</w>'): 1, ('b', 'i', 't', 't', 'er', 'n', 'e', 's', 's</w>'): 1, ('d', 'e', 'e', 'p', '</w>'): 2, ('a', 'r', 'm', '-', 'c', 'ha', 'i', 'r', 's</w>'): 1, ('f', 'or', 'wa', 'r', 'd</w>'): 1, ('m', 'a', 'k', 'e</w>'): 1, ('y', 'ou', 'r', 's', 'e', 'l', 'f</w>'): 1, ('c', 'o', 'm', 'f', 'or', 't', 'a', 'b', 'l', 'e</w>'): 1, ('a', 'r', 'e</w>'): 3, ('c', 'i', 'g', 'a', 'r', 's</w>'): 1, ('e', 'l', 'b', 'o', 'w', '</w>'): 1, ('c', 'on', 't', 'in', 'u', 'ed</w>'): 1, ('w', 'an', 'd', 'er</w>'): 1, ('st', 'o', 'p', 'p', 'ing</w>'): 1, ('H', 'o', 'w', '</w>'): 1, ('f', 'i', 'v', 'e</w>'): 1, ('m', 'in', 'u', 't', 'e', 's</w>'): 1, ('t', 'a', 'k', 'e</w>'): 1, ('l', 'on', 'g', 'er</w>'): 1, ('ha', 'p', 'p', 'e', 'n</w>'): 2, ('r', 'e', 'm', 'e', 'm', 'b', 'er</w>'): 2, ('s', 'ur', 'p', 'r', 'i', 's', 'ed</w>'): 1, ('p', 'l', 'ea', 's', 'ed</w>'): 1, ('g', 'o', 't</w>'): 3, ('g', 'on', 'e</w>'): 1, ('st', 'r', 'ea', 'm', '</w>'): 1, ('e', 'c', 'h', 'o', 'ed</w>'): 1, ('u', 's', 'u', 'a', 'l', '</w>'): 1, ('p', 'l', 'a', 't', 'i', 't', 'u', 'd', 'e', 's</w>'): 1, ('ha', 'l', 'f</w>'): 2, ('f', 'a', 'i', 'l', 'ur', 'e</w>'): 2, ('l', 'e', 'f', 't</w>'): 3, ('ou', 'r', 's', 'e', 'l', 'v', 'e', 's</w>'): 1, ('s', 'w', 'e', 'p', 't</w>'): 1, ('a', 'l', 'on', 'g', '</w>'): 1, ('hi', 'g', 'h', '</w>'): 1, ('c', 'ur', 'r', 'en', 't</w>'): 2, ('o', 'f', 'f</w>'): 4, ('e', 'g', 'r', 'e', 'g', 'i', 'ou', 's</w>'): 1, ('m', 'o', 'o', 'd</w>'): 1, ('L', 'or', 'd</w>'): 1, ('f', 'or', 'g', 'i', 'v', 'e</w>'): 1, ('p', 'a', 'th', 'o', 's</w>'): 1, ('c', 'a', 'r', 'e', 'er</w>'): 1, ('c', 'r', 'o', 'w', 'n', 'ed</w>'): 1, ('m', 'e', 'an', 't</w>'): 1, ('d', 'o</w>'): 3, ('n', 'o', 'th', 'ing</w>'): 1, ('st', 'a', 'm', 'm', 'er</w>'): 1, ('s', 'o', 'm', 'e', 'th', 'ing</w>'): 1, ('p', 'o', 'v', 'er', 't', 'y</w>'): 1, ('g', 'e', 't', 't', 'ing</w>'): 2, ('p', 'r', 'o', 'd', 'i', 'g', 'i', 'ou', 's</w>'): 1, ('p', 'h', 'r', 'a', 's', 'e</w>'): 1, ('o', 'h', '</w>'): 2, ('p', 'r', 'in', 'c', 'e', 'l', 'y</w>'): 1, ('T', 'h', 'e', 'n</w>'): 2, ('a', 'l', 'on', 'e</w>'): 2, ('t', 'r', 'a', 'p', 's</w>'): 2, ('a', 'd', 'v', 'an', 'c', 'e</w>'): 1, ('t', 'w', 'en', 't', 'y', '-', 'f', 'ou', 'r', '</w>'): 1, ('h', 'ou', 'r', 's</w>'): 1, ('h', 'ea', 'r', 't</w>'): 2, ('d', 'i', 's', 'ea', 's', 'e</w>'): 1, ('p', 'r', 'e', 'l', 'i', 'm', 'in', 'a', 'r', 'y</w>'): 1, ('d', 'e', 'st', 'r', 'u', 'c', 't', 'i', 'o', 'n</w>'): 1, ('c', 'l', 'ea', 'r', '</w>'): 1, ('u', 'n', 't', 'ou', 'c', 'h', 'ed</w>'): 1, ('t', 'w', 'i', 'c', 'e</w>'): 1, ('in', 's', 'i', 'g', 'n', 'i', 'f', 'i', 'c', 'an', 't</w>'): 1, ('d', 'ing', 'y</w>'): 1, ('N', 'o', 'w', '</w>'): 1, ('s', 'u', 'p', 'er', 'b', '</w>'): 1, ('g', 'l', 'a', 'd</w>'): 2, ('m', 'er', 'e', 'l', 'y</w>'): 1, ('a', 'e', 's', 'th', 'e', 't', 'i', 'c', '</w>'): 1, ('s', 'u', 'b', 'j', 'e', 'c', 't</w>'): 2, ('st', 'r', 'an', 'g', 'e</w>'): 1, ('l', 'i', 'f', 'e', '-', 'l', 'i', 'k', 'en', 'e', 's', 's</w>'): 1, ('a', 'f', 'f', 'e', 'c', 't</w>'): 1, ('q', 'u', 'e', 'er', 'l', 'y</w>'): 1, ('b', 'l', 'o', 'c', 'k', 'ed</w>'): 1, ('wa', 't', 'c', 'h', 'ing</w>'): 5, ('s', 'en', 's', 'a', 't', 'i', 'o', 'n</w>'): 1, ('w', 'or', 'k', 'ing</w>'): 1, ('st', 'r', 'o', 'k', 'e', 's</w>'): 1, ('w', 'i', 'l', 'd</w>'): 1, ('n', 'er', 'v', 'ou', 's</w>'): 1, ('u', 'n', 'c', 'er', 't', 'a', 'i', 'n</w>'): 1, ('O', 'n', 'c', 'e</w>'): 1, ('g', 'r', 'a', 'y', 'i', 's', 'h', '</w>'): 1, ('b', 'ea', 'r', 'd</w>'): 2, ('s', 'e', 'c', 'r', 'e', 't</w>'): 3, ('a', 'm', 'u', 's', 'ing</w>'): 1, ('h', 'o', 'l', 'd', 'ing</w>'): 1, ('e', 'x', 'a', 's', 'p', 'er', 'a', 't', 'ed</w>'): 1, ('w', 'or', 'th', '</w>'): 1, ('t', 'w', 'en', 't', 'y</w>'): 1, ('d', 'a', 's', 'h', 'ed</w>'): 1, ('c', 'an', 'v', 'a', 's</w>'): 1, ('f', 'ur', 'i', 'ou', 's', 'l', 'y</w>'): 1, ('b', 'r', 'a', 'v', 'ur', 'a</w>'): 1, ('c', 'r', 'u', 'm', 'b', 'l', 'ed</w>'): 1, ('wa', 's', 'n</w>'): 1, ('b', 'i', 't', 's</w>'): 1, ('d', 'i', 'st', 'r', 'a', 'c', 't</w>'): 1, ('k', 'e', 'p', 't</w>'): 1, ('p', 'a', 's', 's', 'a', 'g', 'e', 's</w>'): 1, ('T', 'h', 'o', 's', 'e</w>'): 1, ('on', 'e', 's</w>'): 1, ('s', 'hi', 'r', 'k', 'ed</w>'): 1, ('c', 'o', 'v', 'er', 'ed</w>'): 2, ('l', 'y', 'ing</w>'): 1, ('l', 'i', 'e', 's</w>'): 1, ('s', 'i', 'g', 'h', 't</w>'): 1, ('h', 'an', 'g', 'ing</w>'): 1, ('b', 'ed</w>'): 1, ('a', 'f', 't', 'er', 'wa', 'r', 'd</w>'): 1, ('s', 'ha', 'k', 'ing</w>'): 1, ('D', 'e', 'v', 'on', 's', 'hi', 'r', 'e</w>'): 1, ('r', 'e', 'c', 'o', 'v', 'er', 'ing</w>'): 1, ('p', 'r', 'e', 'v', 'i', 'ou', 's</w>'): 1, ('a', 't', 't', 'a', 'c', 'k', '</w>'): 1, ('J', 'u', 's', 't</w>'): 1, ('t', 'e', 'l', 'l', 's</w>'): 1, ('p', 'a', 't', 'i', 'en', 't</w>'): 1, ('s', 'c', 'or', 'n', 'f', 'u', 'l', '</w>'): 1, ('p', 'er', 's', 'i', 'st', 'en', 'c', 'e</w>'): 1, ('l', 'in', 'e</w>'): 1, ('s', 'w', 'u', 'm', '</w>'): 1, ('l', 'ea', 'r', 'n', 'ed</w>'): 1, ('m', 'i', 'g', 'h', 't', 'y</w>'): 1, ('u', 'p', '-', 'st', 'r', 'ea', 'm', '</w>'): 1, ('st', 'r', 'o', 'k', 'e</w>'): 3, ('m', 'u', 'd', 'd', 'l', 'ing</w>'): 1, ('p', 'o', 's', 's', 'e', 's', 's', 'ed</w>'): 1, ('a', 'b', 's', 'or', 'b', 'ed</w>'): 1, ('r', 'e', 'c', 'r', 'ea', 't', 'ed</w>'): 1, ('T', 'h', 'e', 'y</w>'): 1, ('ha', 'd', 'n</w>'): 1, ('b', 'or', 'n</w>'): 1, ('a', 'd', 'o', 'p', 't', 'ed</w>'): 1, ('H', 'an', 'g', '</w>'): 1, ('an', 'o', 'th', 'er</w>'): 1, ('t', 'r', 'u', 'th', '</w>'): 1, ('k', 'n', 'o', 'w', 'n</w>'): 1, ('s', 'p', 'l', 'a', 's', 'h', '</w>'): 1, ('c', 'o', 'l', 'ou', 'r', '</w>'): 1, ('f', 'a', 'c', 'e', 's</w>'): 1, ('m', 'e', 'd', 'i', 'u', 'm', '</w>'): 1, ('st', 'r', 'a', 'i', 'g', 'h', 't</w>'): 1, ('t', 'o', 't', 't', 'er', 'ing</w>'): 1, ('u', 'n', 'd', 'er', 'n', 'ea', 'th', '</w>'): 1, ('t', 'a', 'l', 'k', 'ing</w>'): 1, ('f', 'or', 'e', 'i', 'g', 'n</w>'): 1, ('l', 'an', 'g', 'u', 'a', 'g', 'e</w>'): 1, ('f', 'l', 'u', 'en', 't', 'l', 'y</w>'): 1, ('w', 'an', 't', 's</w>'): 1, ('l', 'a', 'y</w>'): 2, ('wa', 't', 'c', 'h', 'ed</w>'): 1, ('t', 'e', 'c', 'h', 'n', 'i', 'q', 'u', 'e</w>'): 1, ('c', 'o', 'l', 'l', 'a', 'p', 's', 'ed</w>'): 1, ('c', 'a', 'r', 'd', 's</w>'): 1, ('s', 'n', 'e', 'er</w>'): 1, ('q', 'u', 'i', 'e', 't', 'l', 'y</w>'): 1, ('g', 'r', 'a', 'y</w>'): 1, ('q', 'u', 'e', 'st', 'i', 'o', 'n</w>'): 3, ('A', 'r', 'e</w>'): 1, ('s', 'ur', 'e</w>'): 1, ('c', 'o', 'm', 'ing</w>'): 2, ('g', 'r', 'ea', 't', 'e', 's', 't</w>'): 1, ('g', 'r', 'a', 'c', 'e</w>'): 1, ('m', 'in', 'u', 't', 'e</w>'): 1, ('ea', 'r', 'th', '</w>'): 1, ('a', 'l', 'i', 'v', 'e</w>'): 2, ('l', 'a', 't', 'e</w>'): 2, ('l', 'l', '</w>'): 1, ('p', 'a', 'c', 'k', 'ed</w>'): 1, ('G', 'r', 'e', 'e', 'k', '</w>'): 1, ('r', 'o', 'm', 'an', 't', 'i', 'c', '</w>'): 1, ('t', 'er', 'r', 'i', 'b', 'l', 'y</w>'): 1, ('u', 'p', 's', 'e', 't</w>'): 1, ('A', 't</w>'): 1, ('a', 'f', 'r', 'a', 'i', 'd</w>'): 1, ('w', 'i', 't', 's</w>'): 1, ('s', 'u', 'g', 'g', 'e', 'st', 'ed</w>'): 1, ('st', 'a', 'r', 't', 'ed</w>'): 1, ('s', 'o', 'm', 'e', 'b', 'o', 'd', 'y</w>'): 1, ('t', 'r', 'u', 'e</w>'): 1, ('f', 'l', 'u', 'n', 'g', '</w>'): 1, ('c', 'l', 'a', 's', 'p', 'ing</w>'): 1, ('a', 'r', 'm', 's</w>'): 1, ('c', 'hi', 'm', 'n', 'e', 'y', '-', 'p', 'i', 'e', 'c', 'e</w>'): 1, ('f', 'an', 'c', 'y</w>'): 1, ('an', 's', 'w', 'er</w>'): 1, ('ha', 'l', 'f', '-', 'm', 'e', 'c', 'h', 'an', 'i', 'c', 'a', 'l', 'l', 'y</w>'): 1, ('B', 'e', 'g', 'i', 'n</w>'): 1, ('f', 'l', 'a', 's', 'h', 'ed</w>'): 1, ('b', 'r', 'ing', 's</w>'): 1, ('an', 'y', 'w', 'h', 'er', 'e</w>'): 1, ('l', 'ea', 'v', 'e</w>'): 1, ('s', 'h', 'ou', 'l', 'd', 'er</w>'): 1, ('a', 'm', '</w>'): 1, ('d', 'o', 'ing</w>'): 1, ('e', 'x', 't', 'er', 'm', 'in', 'a', 't', 'ing</w>'): 1, ('ou', 'r', '</w>'): 1}\n",
      "\n",
      "Final Vocabulary (sorted):\n",
      "['!', '\"', '\"</w>', \"'\", \"'</w>\", '(', ')', ',', ',</w>', '-', '--', '--</w>', '.', '.</w>', ':', ';', '?', 'A', 'B', 'C', 'D', 'E', 'F', 'G', 'H', 'I', 'I</w>', 'J', 'L', 'M', 'N', 'O', 'P', 'R', 'S', 'T', 'U', 'V', 'W', 'Y', '_', 'a', 'a</w>', 'an', 'and</w>', 'at</w>', 'b', 'c', 'd', 'd</w>', 'e', 'e</w>', 'ea', 'ed</w>', 'en', 'er', 'er</w>', 'f', 'f</w>', 'g', 'h', 'ha', 'he</w>', 'hi', 'i', 'in', 'ing', 'ing</w>', 'j', 'k', 'l', 'm', 'n', 'n</w>', 'o', 'o</w>', 'of</w>', 'on', 'or', 'ou', 'p', 'q', 'r', 's', 's</w>', 'st', 't', 't</w>', 'th', 'the</w>', 'to</w>', 'u', 'ur', 'v', 'w', 'wa', 'x', 'y', 'y</w>', 'z']\n"
     ]
    }
   ],
   "source": [
    "print(\"\\n--- BPE Merges Complete ---\")\n",
    "print(f\"Final Vocabulary Size {len(character__based_vocab)}\")\n",
    "print(\"\\nLearned Merges (Pair -> New Token):\")\n",
    "\n",
    "for pair, token in merges.items():\n",
    "    print(f\"{pair} -> '{token}'\")\n",
    "\n",
    "print(\"\\nFinal Word Splits after all Merges\")\n",
    "print(current_splits)\n",
    "\n",
    "print(\"\\nFinal Vocabulary (sorted):\")\n",
    "\n",
    "final_vocab_sorted = sorted(list(set(character__based_vocab)))\n",
    "print(final_vocab_sorted)"
   ]
  }
 ],
 "metadata": {
  "kernelspec": {
   "display_name": "llm_built_steps",
   "language": "python",
   "name": "python3"
  },
  "language_info": {
   "codemirror_mode": {
    "name": "ipython",
    "version": 3
   },
   "file_extension": ".py",
   "mimetype": "text/x-python",
   "name": "python",
   "nbconvert_exporter": "python",
   "pygments_lexer": "ipython3",
   "version": "3.11.13"
  }
 },
 "nbformat": 4,
 "nbformat_minor": 5
}
